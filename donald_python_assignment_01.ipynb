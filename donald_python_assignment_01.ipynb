{
 "cells": [
  {
   "cell_type": "markdown",
   "id": "a5206255",
   "metadata": {},
   "source": [
    "# Python Assignment 1 "
   ]
  },
  {
   "cell_type": "markdown",
   "id": "58e3ec8a",
   "metadata": {},
   "source": [
    "## 1. Add up the numbers below 100 that are divisable by 3, 5 or both."
   ]
  },
  {
   "cell_type": "code",
   "execution_count": 1,
   "id": "68755a8b",
   "metadata": {
    "scrolled": true
   },
   "outputs": [
    {
     "name": "stdout",
     "output_type": "stream",
     "text": [
      "2318\n"
     ]
    }
   ],
   "source": [
    "sum = 0\n",
    "list= []\n",
    "for i in range(1,100):\n",
    "  if i % 3 == 0 or i % 5 == 0 or (i % 3 == 0 and i % 5 == 0):\n",
    "    sum += i\n",
    "    list.append(i)\n",
    "print(sum)\n",
    "\n",
    "    \n",
    "    "
   ]
  },
  {
   "cell_type": "code",
   "execution_count": 2,
   "id": "e6d600f2",
   "metadata": {},
   "outputs": [
    {
     "data": {
      "text/plain": [
       "2318"
      ]
     },
     "execution_count": 2,
     "metadata": {},
     "output_type": "execute_result"
    }
   ],
   "source": [
    "sum"
   ]
  },
  {
   "cell_type": "code",
   "execution_count": null,
   "id": "62c62679",
   "metadata": {},
   "outputs": [],
   "source": []
  },
  {
   "cell_type": "code",
   "execution_count": 3,
   "id": "3d575bb3",
   "metadata": {},
   "outputs": [
    {
     "data": {
      "text/plain": [
       "' If we Add up the numbers below 100 that are divisable by 3, 5 or both we get 2318'"
      ]
     },
     "execution_count": 3,
     "metadata": {},
     "output_type": "execute_result"
    }
   ],
   "source": [
    "f\" If we Add up the numbers below 100 that are divisable by 3, 5 or both we get {sum}\""
   ]
  },
  {
   "cell_type": "code",
   "execution_count": 4,
   "id": "b2716182",
   "metadata": {},
   "outputs": [
    {
     "name": "stdout",
     "output_type": "stream",
     "text": [
      "[3, 5, 6, 9, 10, 12, 15, 18, 20, 21, 24, 25, 27, 30, 33, 35, 36, 39, 40, 42, 45, 48, 50, 51, 54, 55, 57, 60, 63, 65, 66, 69, 70, 72, 75, 78, 80, 81, 84, 85, 87, 90, 93, 95, 96, 99]\n"
     ]
    }
   ],
   "source": [
    "print(list)"
   ]
  },
  {
   "cell_type": "markdown",
   "id": "e5c04eec",
   "metadata": {},
   "source": [
    "## 2. Make a list of the numbers that are divisable by 7 and less than 50."
   ]
  },
  {
   "cell_type": "code",
   "execution_count": 5,
   "id": "b8ae5fb8",
   "metadata": {
    "scrolled": true
   },
   "outputs": [
    {
     "name": "stdout",
     "output_type": "stream",
     "text": [
      "[7, 14, 21, 28, 35, 42, 49]\n"
     ]
    }
   ],
   "source": [
    "list_new = []\n",
    "for i in range(1,50):\n",
    "    if i % 7 == 0:\n",
    "        list_new.append(i)\n",
    "    \n",
    "print(list_new)\n"
   ]
  },
  {
   "cell_type": "code",
   "execution_count": null,
   "id": "94e4cb6a",
   "metadata": {},
   "outputs": [],
   "source": []
  },
  {
   "cell_type": "markdown",
   "id": "1fc75bb4",
   "metadata": {},
   "source": [
    "## 3. Make a list of even numbers less than 45 that have remainder 1 on division by 3."
   ]
  },
  {
   "cell_type": "code",
   "execution_count": 6,
   "id": "f9c49131",
   "metadata": {},
   "outputs": [
    {
     "name": "stdout",
     "output_type": "stream",
     "text": [
      "[4, 10, 16, 22, 28, 34, 40]\n"
     ]
    }
   ],
   "source": [
    "even = []\n",
    "for i in range(45):\n",
    "  if i % 2 == 0 and i % 3 == 1:\n",
    "    even.append(i)\n",
    "print(even)"
   ]
  },
  {
   "cell_type": "code",
   "execution_count": null,
   "id": "2772a932",
   "metadata": {},
   "outputs": [],
   "source": []
  },
  {
   "cell_type": "markdown",
   "id": "15150d04",
   "metadata": {},
   "source": [
    "## 4. Given a list a, how do you find the largest element? Write a code that finds the largest entry in\n",
    "$[3,5,8,2,4,9]$."
   ]
  },
  {
   "cell_type": "code",
   "execution_count": 7,
   "id": "4717d51f",
   "metadata": {},
   "outputs": [],
   "source": [
    "List = [3,5,8,2,4,9]"
   ]
  },
  {
   "cell_type": "code",
   "execution_count": 8,
   "id": "61dfcb99",
   "metadata": {},
   "outputs": [
    {
     "data": {
      "text/plain": [
       "'The maximum number in a list is found by caling max(List) and for this instance the maximum value is 9'"
      ]
     },
     "execution_count": 8,
     "metadata": {},
     "output_type": "execute_result"
    }
   ],
   "source": [
    "f\"The maximum number in a list is found by caling max(List) and for this instance the maximum value is {max(List)}\""
   ]
  },
  {
   "cell_type": "code",
   "execution_count": null,
   "id": "10a5c0e4",
   "metadata": {},
   "outputs": [],
   "source": []
  },
  {
   "cell_type": "markdown",
   "id": "e75b318d",
   "metadata": {},
   "source": [
    "## 5.Write a code that adds up every second element in b=[5,6,7,3,8,2], starting from 5."
   ]
  },
  {
   "cell_type": "code",
   "execution_count": 9,
   "id": "de54a64c",
   "metadata": {},
   "outputs": [],
   "source": [
    "b=[5,6,7,3,8,2]"
   ]
  },
  {
   "cell_type": "code",
   "execution_count": 10,
   "id": "dde7eb24",
   "metadata": {},
   "outputs": [
    {
     "name": "stdout",
     "output_type": "stream",
     "text": [
      "20\n",
      "\n"
     ]
    }
   ],
   "source": [
    "add=0\n",
    "\n",
    "for i in range(6):\n",
    "    if i % 2==0:\n",
    "        add+=b[i]       \n",
    "print(add)\n",
    "\n",
    "print()\n",
    "        "
   ]
  },
  {
   "cell_type": "markdown",
   "id": "680ccd23",
   "metadata": {},
   "source": [
    "## 6.Write a code that adds up all the float or integer elements of a list. Note that type(a) returns\n",
    "float/int/tuple/string. Test it with b=[1,5,4,”hello”,6,”9”]."
   ]
  },
  {
   "cell_type": "code",
   "execution_count": 11,
   "id": "1152c435",
   "metadata": {},
   "outputs": [],
   "source": [
    " b=[1,5,4,\"hello\",6,\"9\"]"
   ]
  },
  {
   "cell_type": "code",
   "execution_count": 12,
   "id": "eff33436",
   "metadata": {},
   "outputs": [
    {
     "name": "stdout",
     "output_type": "stream",
     "text": [
      " If i sum all the elements in my list that are integers or floats i get 16\n"
     ]
    }
   ],
   "source": [
    "add =0\n",
    "for i in b:\n",
    "    if type(i)==int:\n",
    "        add+=i \n",
    "print(f\" If i sum all the elements in my list that are integers or floats i get {add}\")"
   ]
  },
  {
   "cell_type": "code",
   "execution_count": null,
   "id": "69cfc565",
   "metadata": {},
   "outputs": [],
   "source": []
  },
  {
   "cell_type": "code",
   "execution_count": null,
   "id": "7c089aae",
   "metadata": {},
   "outputs": [],
   "source": []
  },
  {
   "cell_type": "markdown",
   "id": "14786bdc",
   "metadata": {},
   "source": [
    "## Problem 0\n",
    "\n",
    "Write a function that, given $-1<x<1$ and $\\epsilon>0$, returns the smallest $n$ such that\n",
    "$|\\sum_{k=0}^n x^k-\\frac{1}{1-x}|\\le\\epsilon$."
   ]
  },
  {
   "cell_type": "code",
   "execution_count": 13,
   "id": "3c892bad",
   "metadata": {},
   "outputs": [],
   "source": [
    "def actual(x):\n",
    "    if x>-1 and x<1:\n",
    "        actual_value = 1/(1-x)\n",
    "    return actual_value"
   ]
  },
  {
   "cell_type": "code",
   "execution_count": 14,
   "id": "009dd099",
   "metadata": {},
   "outputs": [
    {
     "data": {
      "text/plain": [
       "2.0"
      ]
     },
     "execution_count": 14,
     "metadata": {},
     "output_type": "execute_result"
    }
   ],
   "source": [
    "actual(.5)"
   ]
  },
  {
   "cell_type": "code",
   "execution_count": null,
   "id": "ff56ce90",
   "metadata": {},
   "outputs": [],
   "source": []
  },
  {
   "cell_type": "code",
   "execution_count": 15,
   "id": "1d101a24",
   "metadata": {},
   "outputs": [],
   "source": [
    "def approximate_f(x, a):\n",
    "    result =0\n",
    "    \n",
    "    for i in range(a+1):\n",
    "        result += x**i\n",
    "    return result"
   ]
  },
  {
   "cell_type": "code",
   "execution_count": null,
   "id": "e914aad9",
   "metadata": {},
   "outputs": [],
   "source": []
  },
  {
   "cell_type": "code",
   "execution_count": 16,
   "id": "0b70d93a",
   "metadata": {},
   "outputs": [],
   "source": [
    "n=0 \n",
    "\n",
    "def necessary_terms(x, eps):\n",
    "    if not (-1<x<1) or eps <=0:\n",
    "        print(\"Invalid Input\")\n",
    "    sum_ser = 0\n",
    "    n= 0\n",
    "    while abs((sum_ser - 1/(1-x)))>eps:\n",
    "        sum_ser+= x**n\n",
    "        n+=1\n",
    "        \n",
    "    return n"
   ]
  },
  {
   "cell_type": "code",
   "execution_count": 17,
   "id": "91f70bc0",
   "metadata": {},
   "outputs": [
    {
     "data": {
      "text/plain": [
       "'The neccessary number of terms needed to have epsilon around 0.001 and x= 0.3. We need an n value of 7'"
      ]
     },
     "execution_count": 17,
     "metadata": {},
     "output_type": "execute_result"
    }
   ],
   "source": [
    "necessary_terms(0.3, 0.001)\n",
    "\n",
    "f\"The neccessary number of terms needed to have epsilon around 0.001 and x= 0.3. We need an n value of {necessary_terms(0.3, 0.001)}\""
   ]
  },
  {
   "cell_type": "code",
   "execution_count": 19,
   "id": "4a4c58c9",
   "metadata": {},
   "outputs": [
    {
     "data": {
      "text/plain": [
       "'The neccessary number of terms needed to have epsilon around 0.001 and x= 0.3. We need an n value of 1833'"
      ]
     },
     "execution_count": 19,
     "metadata": {},
     "output_type": "execute_result"
    }
   ],
   "source": [
    "necessary_terms(0.99, 0.000001)\n",
    "f\"The neccessary number of terms needed to have epsilon around 0.001 and x= 0.3. We need an n value of {necessary_terms(0.99, 0.000001)}\""
   ]
  },
  {
   "cell_type": "code",
   "execution_count": null,
   "id": "125dc249",
   "metadata": {},
   "outputs": [],
   "source": []
  },
  {
   "cell_type": "markdown",
   "id": "245b3e09",
   "metadata": {},
   "source": [
    "## Problem 3\n",
    "\n",
    "Consider the recursive sequence\n",
    "$$U_0=7,\\quad\n",
    "  U_1=3,\\quad\n",
    "  U_{k+1}=U_k+3U_{k-1}\\text{ for }k\\ge 1\n",
    "$$\n",
    "\n",
    "Please write a function that, given a positive integer $A$, outputs the number of all $k\\ge 0$ such that $U_k\\le A$ and $U_k$ is odd. Please test your function on some examples."
   ]
  },
  {
   "cell_type": "code",
   "execution_count": 28,
   "id": "7d72a1b9",
   "metadata": {},
   "outputs": [],
   "source": [
    "def calculate_u(k):\n",
    "    u = [7, 3]\n",
    "    while len(u) <= k:\n",
    "        u.append(u[-1] + 3 * u[-2])\n",
    "    return u[k]\n",
    "\n",
    "def count_odd_u_less_than_a(a):\n",
    "    count, k = 0, 0\n",
    "    while True:\n",
    "        u_k = calculate_u(k)\n",
    "        if u_k > a:\n",
    "            break\n",
    "        if u_k % 2 != 0:\n",
    "            count += 1\n",
    "        k += 1\n",
    "        \n",
    "    return count"
   ]
  },
  {
   "cell_type": "code",
   "execution_count": 29,
   "id": "7b2010d9",
   "metadata": {},
   "outputs": [
    {
     "name": "stdout",
     "output_type": "stream",
     "text": [
      "5\n"
     ]
    }
   ],
   "source": [
    "print(count_odd_u_less_than_a(1000))"
   ]
  },
  {
   "cell_type": "markdown",
   "id": "a90f7745",
   "metadata": {},
   "source": [
    "### Problem 4\n",
    "\n",
    "Consider an infinite decimal fraction\n",
    "\n",
    "$$0.12345678910111213141516171819202122232425....$$\n",
    "\n",
    "That is, our fraction consists of concatenated decimal representations of natural numbers in increasing order.\n",
    "Please write a function ``fraction_digit(k)`` that, given positive integer $k$, outputs the $k$-th digit of this fraction.\n",
    "For example, ``fraction_digit(1)==1``, ``fraction_digit(9)==9`` and ``fraction_digit(11)==0``. Your function should run reasonably fast at least until $k\\approx 10^6$. Test your funcion on some exmples."
   ]
  },
  {
   "cell_type": "code",
   "execution_count": null,
   "id": "ec32f56c",
   "metadata": {},
   "outputs": [],
   "source": []
  },
  {
   "cell_type": "code",
   "execution_count": 39,
   "id": "6ace43ef",
   "metadata": {},
   "outputs": [],
   "source": [
    "def fraction_digit(k):\n",
    "    List = []\n",
    "    for r in range (1_000_000): # this is our k=10^6\n",
    "        List.append(r)\n",
    "    delimiter = \"\"\n",
    "    digit_string = map(str,List)\n",
    "    \n",
    "    position = delimiter.join(digit_string)\n",
    "    \n",
    "    \n",
    "    return position[k]\n"
   ]
  },
  {
   "cell_type": "code",
   "execution_count": null,
   "id": "64f3ccc5",
   "metadata": {},
   "outputs": [],
   "source": []
  },
  {
   "cell_type": "code",
   "execution_count": 40,
   "id": "4e909e37",
   "metadata": {},
   "outputs": [
    {
     "name": "stdout",
     "output_type": "stream",
     "text": [
      "4\n"
     ]
    }
   ],
   "source": [
    "print(fraction_digit(19))"
   ]
  },
  {
   "cell_type": "markdown",
   "id": "f7a1b4d2",
   "metadata": {},
   "source": [
    "### Problem 5\n",
    "\n",
    "Write a function ``count_mondays(year)`` that returns how many Mondays were/will be in a given calendar year. Below I included two suggestions of two other functions you can implement to help you. Please test the function on some examples."
   ]
  },
  {
   "cell_type": "code",
   "execution_count": null,
   "id": "e0f79b26",
   "metadata": {},
   "outputs": [],
   "source": [
    "import datetime as dt\n",
    "\n",
    "def is_leap_year(year):\n",
    "    leap = year % 4 == 0 \n",
    "    return leap\n",
    "\n",
    "def count_mondays(year):\n",
    "    mondays_count = 0\n",
    "    for month in range(1, 13):\n",
    "        for day in range(1, 32):\n",
    "            try:\n",
    "                date = dt.date(year, month, day)\n",
    "                if date.weekday() == 0:\n",
    "                    mondays_count += 1\n",
    "            except ValueError:\n",
    "                continue\n",
    "    return mondays_count"
   ]
  },
  {
   "cell_type": "code",
   "execution_count": null,
   "id": "701165e8",
   "metadata": {},
   "outputs": [],
   "source": [
    "is_leap_year(2024)"
   ]
  },
  {
   "cell_type": "code",
   "execution_count": null,
   "id": "39d9c64b",
   "metadata": {},
   "outputs": [],
   "source": [
    "count_mondays(2024)"
   ]
  },
  {
   "cell_type": "code",
   "execution_count": null,
   "id": "eea84c62",
   "metadata": {},
   "outputs": [],
   "source": []
  },
  {
   "cell_type": "code",
   "execution_count": null,
   "id": "68c54dbe",
   "metadata": {},
   "outputs": [],
   "source": []
  },
  {
   "cell_type": "code",
   "execution_count": null,
   "id": "dd83b7f4",
   "metadata": {},
   "outputs": [],
   "source": []
  },
  {
   "cell_type": "code",
   "execution_count": null,
   "id": "faba3777",
   "metadata": {},
   "outputs": [],
   "source": [
    "import pandas as pd\n",
    "\n",
    "\n",
    "M = pd.DataFrame([\n",
    "    [842,655,195,544,768,354,285,491,49,2,917,398,822,126,286,186,278,587,877,973],\n",
    "    [199,820,414,592,968,11,409,932,847,20,710,167,531,700,532,789,631,543,739,850],\n",
    "    [351,516,1,581,668,127,495,177,89,893,485,352,401,51,81,749,154,369,67,863],\n",
    "    [905,473,159,37,676,80,918,2,993,312,857,118,791,642,505,284,565,667,292,265],\n",
    "    [329,758,667,339,452,950,955,724,95,986,255,7,853,390,543,345,470,354,970,288],\n",
    "    [373,5,566,193,904,75,362,11,424,303,312,367,981,129,618,650,742,786,232,447],\n",
    "    [47,582,174,632,425,505,703,127,502,931,273,963,438,577,712,730,408,718,327,409],\n",
    "    [668,443,856,542,518,794,715,9,526,833,324,158,246,867,130,572,86,386,186,262],\n",
    "    [325,632,471,315,99,538,897,81,371,886,32,967,569,818,50,299,524,479,586,463],\n",
    "    [819,124,483,172,146,518,131,324,637,929,732,690,994,989,735,825,760,755,902,566],\n",
    "    [393,546,545,949,641,34,381,499,462,686,975,757,885,430,295,574,503,671,634,425],\n",
    "    [678,336,151,370,142,946,412,332,765,890,302,68,448,850,172,372,985,908,260,600],\n",
    "    [588,399,4,913,201,222,945,808,361,975,689,438,799,647,721,80,634,435,20,211],\n",
    "    [124,506,295,11,396,134,237,84,99,862,862,205,324,226,162,368,484,961,348,342],\n",
    "    [803,603,28,126,851,393,742,625,619,700,390,564,264,539,572,121,472,925,327,751],\n",
    "    [479,297,442,698,506,716,164,457,971,972,851,472,922,649,273,71,491,251,256,394],\n",
    "    [880,723,782,515,269,283,51,635,238,676,439,0,555,232,843,459,554,207,826,14],\n",
    "    [598,52,320,133,816,72,183,182,225,261,16,742,780,734,369,560,256,693,564,127],\n",
    "    [763,896,515,449,779,441,120,113,447,939,635,671,820,168,670,800,931,772,94,402],\n",
    "    [133,761,829,794,41,979,96,422,839,593,824,161,477,575,386,762,663,526,625,555]\n",
    "])\n",
    "\n"
   ]
  },
  {
   "cell_type": "code",
   "execution_count": null,
   "id": "913dba2c",
   "metadata": {},
   "outputs": [],
   "source": [
    "M.head()"
   ]
  },
  {
   "cell_type": "code",
   "execution_count": null,
   "id": "a25e379c",
   "metadata": {},
   "outputs": [],
   "source": [
    "import pandas as pd\n",
    "\n",
    "\n",
    "def max_submatrix_sum(df, submatrix_size=3):\n",
    "    rows, cols = df.shape\n",
    "    max_sum = 0\n",
    "\n",
    "    for i in range(rows - submatrix_size + 1):\n",
    "        for j in range(cols - submatrix_size + 1):\n",
    "            submatrix = df.iloc[i:i+submatrix_size, j:j+submatrix_size]\n",
    "            submatrix_sum = submatrix.values.sum()\n",
    "            max_sum = max(max_sum, submatrix_sum)\n",
    "    \n",
    "    return max_sum\n"
   ]
  },
  {
   "cell_type": "code",
   "execution_count": null,
   "id": "d8468cbb",
   "metadata": {},
   "outputs": [],
   "source": [
    "max_submatrix_sum(M)"
   ]
  },
  {
   "cell_type": "code",
   "execution_count": null,
   "id": "e2b715e7",
   "metadata": {},
   "outputs": [],
   "source": [
    "M.shape"
   ]
  },
  {
   "cell_type": "code",
   "execution_count": null,
   "id": "7962d407",
   "metadata": {},
   "outputs": [],
   "source": []
  },
  {
   "cell_type": "code",
   "execution_count": null,
   "id": "6db5fb26",
   "metadata": {},
   "outputs": [],
   "source": []
  }
 ],
 "metadata": {
  "kernelspec": {
   "display_name": "Python 3 (ipykernel)",
   "language": "python",
   "name": "python3"
  },
  "language_info": {
   "codemirror_mode": {
    "name": "ipython",
    "version": 3
   },
   "file_extension": ".py",
   "mimetype": "text/x-python",
   "name": "python",
   "nbconvert_exporter": "python",
   "pygments_lexer": "ipython3",
   "version": "3.11.2"
  }
 },
 "nbformat": 4,
 "nbformat_minor": 5
}
