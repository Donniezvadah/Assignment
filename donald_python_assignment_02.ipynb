{
 "cells": [
  {
   "cell_type": "markdown",
   "metadata": {},
   "source": [
    "# Programming with Python, assignment 2"
   ]
  },
  {
   "cell_type": "markdown",
   "metadata": {},
   "source": [
    "Please submit your notebook by the deadline announced by the tutors in a separate email."
   ]
  },
  {
   "cell_type": "markdown",
   "metadata": {},
   "source": [
    "## Part I: Programming"
   ]
  },
  {
   "cell_type": "markdown",
   "metadata": {},
   "source": [
    "Please run the code below first. Every time after you write a function you can test it using the box below the function. The test will tell you if it was successful or not based on the examples provided. **You should also create and test your own examples**. "
   ]
  },
  {
   "cell_type": "code",
   "execution_count": 1,
   "metadata": {},
   "outputs": [],
   "source": [
    "def test_function(data, correct_answers, f):\n",
    "    for i in range(len(data)):\n",
    "        answer = f(data[i])\n",
    "        if answer != correct_answers[i]:\n",
    "            print('WRONG ANSWER')\n",
    "            print('Argument:', data[i])\n",
    "            print('Correct answer:', correct_answers[i])\n",
    "            print('Your answer:', answer)\n",
    "            return\n",
    "    print('SUCCESS')"
   ]
  },
  {
   "cell_type": "markdown",
   "metadata": {},
   "source": [
    "### Problem 1"
   ]
  },
  {
   "cell_type": "markdown",
   "metadata": {},
   "source": [
    "Write a function that takes one argument: ``mark``, which is an integer between ``0`` and ``100``.\n",
    "The function should **return** a ``string`` according to AIMS grade scale. That is, it should return:\n",
    "* ``'FAIL'`` if ``mark`` is less than ``60``.\n",
    "* ``'PASS'`` if ``mark`` is at least ``60`` and less than ``70``.\n",
    "* ``'GOOD PASS'`` if ``mark`` is at least ``70`` and less than ``85``.\n",
    "* ``'DISTINCTION'`` if ``mark`` is at least ``85``."
   ]
  },
  {
   "cell_type": "code",
   "execution_count": null,
   "metadata": {},
   "outputs": [],
   "source": []
  },
  {
   "cell_type": "code",
   "execution_count": 2,
   "metadata": {},
   "outputs": [],
   "source": [
    "def compute_grade(mark):\n",
    "    assert 0 <= mark <= 100, \"MARK IS OUT OF RANGE\"\n",
    "    if mark >= 85:\n",
    "        return(\"DISTINCTION\")\n",
    "    elif 70 <= mark < 85:\n",
    "        return(\"GOOD PASS\")\n",
    "    elif 60 <= mark < 70:\n",
    "        return('PASS')\n",
    "    else:\n",
    "        return('FAIL')"
   ]
  },
  {
   "cell_type": "markdown",
   "metadata": {},
   "source": [
    "Test your function using code below. You will receive indication if your answers were correct."
   ]
  },
  {
   "cell_type": "code",
   "execution_count": 3,
   "metadata": {},
   "outputs": [
    {
     "data": {
      "text/plain": [
       "'PASS'"
      ]
     },
     "execution_count": 3,
     "metadata": {},
     "output_type": "execute_result"
    }
   ],
   "source": [
    "compute_grade(60)"
   ]
  },
  {
   "cell_type": "code",
   "execution_count": 4,
   "metadata": {},
   "outputs": [
    {
     "name": "stdout",
     "output_type": "stream",
     "text": [
      "SUCCESS\n"
     ]
    }
   ],
   "source": [
    "data = [59, 41, 60, 89, 100, 0, 1, 59, 69, 70, 84, 85]\n",
    "correct_answers = [\n",
    "    'FAIL', 'FAIL', 'PASS', 'DISTINCTION', 'DISTINCTION', 'FAIL', \n",
    "    'FAIL', 'FAIL', 'PASS', 'GOOD PASS', 'GOOD PASS', 'DISTINCTION'\n",
    "]\n",
    "test_function(data, correct_answers, compute_grade)"
   ]
  },
  {
   "cell_type": "code",
   "execution_count": 5,
   "metadata": {},
   "outputs": [
    {
     "name": "stdout",
     "output_type": "stream",
     "text": [
      "FAIL\n",
      "FAIL\n",
      "PASS\n",
      "DISTINCTION\n",
      "DISTINCTION\n",
      "FAIL\n",
      "FAIL\n",
      "FAIL\n",
      "PASS\n",
      "GOOD PASS\n",
      "GOOD PASS\n",
      "DISTINCTION\n"
     ]
    }
   ],
   "source": [
    "for hello in data:\n",
    "    print(compute_grade(hello))"
   ]
  },
  {
   "cell_type": "markdown",
   "metadata": {},
   "source": [
    "### Problem 2"
   ]
  },
  {
   "cell_type": "markdown",
   "metadata": {},
   "source": [
    "Write a Python function that **returns** the **factorial** ``n!`` of a natural number ``n``."
   ]
  },
  {
   "cell_type": "code",
   "execution_count": 6,
   "metadata": {
    "scrolled": true
   },
   "outputs": [],
   "source": [
    "def factorial(n):\n",
    "    fact = 1\n",
    "\n",
    "    for i in range(1, n+1):\n",
    "        fact = fact * i\n",
    "        \n",
    "    return fact"
   ]
  },
  {
   "cell_type": "code",
   "execution_count": null,
   "metadata": {},
   "outputs": [],
   "source": []
  },
  {
   "cell_type": "code",
   "execution_count": null,
   "metadata": {},
   "outputs": [],
   "source": []
  },
  {
   "cell_type": "code",
   "execution_count": 7,
   "metadata": {},
   "outputs": [
    {
     "name": "stdout",
     "output_type": "stream",
     "text": [
      "SUCCESS\n"
     ]
    }
   ],
   "source": [
    "data = [6, 3, 10, 1, 0, 2, 20, 99, 100]\n",
    "correct_answers = [\n",
    "    720, 6, 3628800, 1, 1, 2, 2432902008176640000, \n",
    "    933262154439441526816992388562667004907159682643816214685929638952175999932299156089414639761565182862536979208272237582511852109168640000000000000000000000, \n",
    "    93326215443944152681699238856266700490715968264381621468592963895217599993229915608941463976156518286253697920827223758251185210916864000000000000000000000000\n",
    "]\n",
    "test_function(data, correct_answers, factorial)"
   ]
  },
  {
   "cell_type": "code",
   "execution_count": 8,
   "metadata": {},
   "outputs": [
    {
     "name": "stdout",
     "output_type": "stream",
     "text": [
      "720\n",
      "6\n",
      "3628800\n",
      "1\n",
      "1\n",
      "2\n",
      "2432902008176640000\n",
      "933262154439441526816992388562667004907159682643816214685929638952175999932299156089414639761565182862536979208272237582511852109168640000000000000000000000\n",
      "93326215443944152681699238856266700490715968264381621468592963895217599993229915608941463976156518286253697920827223758251185210916864000000000000000000000000\n"
     ]
    }
   ],
   "source": [
    "for i in data:\n",
    "    print(factorial(i))"
   ]
  },
  {
   "cell_type": "code",
   "execution_count": null,
   "metadata": {},
   "outputs": [],
   "source": []
  },
  {
   "cell_type": "code",
   "execution_count": null,
   "metadata": {},
   "outputs": [],
   "source": []
  },
  {
   "cell_type": "markdown",
   "metadata": {},
   "source": [
    "### Problem 3"
   ]
  },
  {
   "cell_type": "markdown",
   "metadata": {},
   "source": [
    "Write a function that takes one argument: list ``L`` and **returns** another list which contains only **even** elements\n",
    "from ``L``."
   ]
  },
  {
   "cell_type": "code",
   "execution_count": null,
   "metadata": {},
   "outputs": [],
   "source": []
  },
  {
   "cell_type": "code",
   "execution_count": 9,
   "metadata": {},
   "outputs": [],
   "source": [
    "def even_list(L):\n",
    "    L_even = []\n",
    "    for i in L:\n",
    "        if i%2==0:\n",
    "            \n",
    "            L_even.append(i)\n",
    "            \n",
    "    return L_even \n",
    "            "
   ]
  },
  {
   "cell_type": "code",
   "execution_count": null,
   "metadata": {},
   "outputs": [],
   "source": []
  },
  {
   "cell_type": "code",
   "execution_count": null,
   "metadata": {},
   "outputs": [],
   "source": []
  },
  {
   "cell_type": "code",
   "execution_count": 10,
   "metadata": {},
   "outputs": [
    {
     "name": "stdout",
     "output_type": "stream",
     "text": [
      "SUCCESS\n"
     ]
    }
   ],
   "source": [
    "data = [\n",
    "    [],\n",
    "    [1],\n",
    "    [2],\n",
    "    [2, 2],\n",
    "    [1, 2, 3, 1, 2, 4, 5, 100, 99],\n",
    "    [2, 4, 6],\n",
    "    [1, 3, 5]\n",
    "]\n",
    "correct_answers = [[], [], [2], [2, 2], [2, 2, 4, 100], [2, 4, 6], []]\n",
    "test_function(data, correct_answers, even_list)"
   ]
  },
  {
   "cell_type": "code",
   "execution_count": 11,
   "metadata": {},
   "outputs": [
    {
     "name": "stdout",
     "output_type": "stream",
     "text": [
      "[]\n",
      "[]\n",
      "[2]\n",
      "[2, 2]\n",
      "[2, 2, 4, 100]\n",
      "[2, 4, 6]\n",
      "[]\n"
     ]
    }
   ],
   "source": [
    "for i in data:\n",
    "    print(even_list(i))"
   ]
  },
  {
   "cell_type": "code",
   "execution_count": null,
   "metadata": {},
   "outputs": [],
   "source": []
  },
  {
   "cell_type": "code",
   "execution_count": null,
   "metadata": {},
   "outputs": [],
   "source": []
  },
  {
   "cell_type": "markdown",
   "metadata": {},
   "source": [
    "### Problem 4"
   ]
  },
  {
   "cell_type": "markdown",
   "metadata": {},
   "source": [
    "Write a function that takes one argument: string ``s`` and returns either ``True`` or ``False``. It should return ``True`` if and only if **the string is a name**. We assume that a string is a name if:\n",
    "* It starts with an uppercase letter.\n",
    "* All the other characters are lowercase letters."
   ]
  },
  {
   "cell_type": "markdown",
   "metadata": {},
   "source": [
    "Hint: To check if one character ``c`` is lowercase you use ``c.islower()``. To check uppercase you use ``c.isupper()``."
   ]
  },
  {
   "cell_type": "code",
   "execution_count": 12,
   "metadata": {},
   "outputs": [],
   "source": [
    "def is_name(s):\n",
    "    if s==\"\": #or any(i.isdigit() for i in s)== True:\n",
    "        return False\n",
    "    elif s[0].isupper() and len(s)==1:\n",
    "        return True\n",
    "    elif s[0].isupper() and s[1:].islower() and s.isalpha():\n",
    "            return True\n",
    "\n",
    "\n",
    "    else:\n",
    "        return False\n",
    "\n",
    "#     except Exception:\n",
    "#         return False"
   ]
  },
  {
   "cell_type": "code",
   "execution_count": 13,
   "metadata": {},
   "outputs": [
    {
     "data": {
      "text/plain": [
       "True"
      ]
     },
     "execution_count": 13,
     "metadata": {},
     "output_type": "execute_result"
    }
   ],
   "source": [
    "s = \"Loh5n\"\n",
    "\n",
    "s[1:].islower()\n",
    "    "
   ]
  },
  {
   "cell_type": "code",
   "execution_count": 14,
   "metadata": {},
   "outputs": [
    {
     "data": {
      "text/plain": [
       "False"
      ]
     },
     "execution_count": 14,
     "metadata": {},
     "output_type": "execute_result"
    }
   ],
   "source": [
    "is_name(s)"
   ]
  },
  {
   "cell_type": "code",
   "execution_count": 15,
   "metadata": {},
   "outputs": [
    {
     "name": "stdout",
     "output_type": "stream",
     "text": [
      "SUCCESS\n"
     ]
    }
   ],
   "source": [
    "data = ['', 'john', 'Alice', 'J', 'Jennifer1', 'B0ris']\n",
    "correct_answers = [False, False, True, True, False, False]\n",
    "test_function(data, correct_answers, is_name)"
   ]
  },
  {
   "cell_type": "code",
   "execution_count": 16,
   "metadata": {
    "scrolled": true
   },
   "outputs": [
    {
     "name": "stdout",
     "output_type": "stream",
     "text": [
      "False\n",
      "False\n",
      "True\n",
      "True\n",
      "False\n",
      "False\n"
     ]
    }
   ],
   "source": [
    "for hi in data:\n",
    "    print(is_name(hi))"
   ]
  },
  {
   "cell_type": "code",
   "execution_count": null,
   "metadata": {},
   "outputs": [],
   "source": []
  },
  {
   "cell_type": "code",
   "execution_count": null,
   "metadata": {},
   "outputs": [],
   "source": []
  },
  {
   "cell_type": "markdown",
   "metadata": {},
   "source": [
    "### Problem 5"
   ]
  },
  {
   "cell_type": "markdown",
   "metadata": {},
   "source": [
    "Write a function that takes one argument: list of strings ``L``. The function should return an integer: **The first index where the list contains a name**. If there are no names on the list please return ``-1``.\n",
    "\n",
    "**Please use the function from Problem 4 in your solution**."
   ]
  },
  {
   "cell_type": "code",
   "execution_count": 17,
   "metadata": {},
   "outputs": [],
   "source": [
    "def first_name(L):\n",
    "    for i in L:\n",
    "        if is_name(i):\n",
    "            return L.index(i)\n",
    "    return -1\n"
   ]
  },
  {
   "cell_type": "code",
   "execution_count": null,
   "metadata": {},
   "outputs": [],
   "source": []
  },
  {
   "cell_type": "code",
   "execution_count": 18,
   "metadata": {},
   "outputs": [
    {
     "name": "stdout",
     "output_type": "stream",
     "text": [
      "SUCCESS\n"
     ]
    }
   ],
   "source": [
    "data = [\n",
    "    [],\n",
    "    ['Jan'],\n",
    "    ['jan', 'Jan'],\n",
    "    ['name with spaces', 'Tal1n', 'IsThisAName', 'Andthis?'],\n",
    "    ['noname', '', 'Name', 'AnotherNoName', 'Secondname']\n",
    "]\n",
    "correct_answers = [-1, 0, 1, -1, 2]\n",
    "test_function(data, correct_answers, first_name)"
   ]
  },
  {
   "cell_type": "code",
   "execution_count": 19,
   "metadata": {},
   "outputs": [
    {
     "name": "stdout",
     "output_type": "stream",
     "text": [
      "-1\n",
      "0\n",
      "1\n",
      "-1\n",
      "2\n"
     ]
    }
   ],
   "source": [
    "for o in data:\n",
    "    print(first_name(o))"
   ]
  },
  {
   "cell_type": "code",
   "execution_count": null,
   "metadata": {},
   "outputs": [],
   "source": []
  },
  {
   "cell_type": "markdown",
   "metadata": {},
   "source": [
    "### Problem 6"
   ]
  },
  {
   "cell_type": "markdown",
   "metadata": {},
   "source": [
    "Write a function that takes one argument: List of integers ``L`` and returns the **maximum element in ``L`` which is strictly negative**. If such an element does not exist, **return ``0``**."
   ]
  },
  {
   "cell_type": "code",
   "execution_count": 20,
   "metadata": {},
   "outputs": [],
   "source": [
    "def maximum_negative(L):\n",
    "    negative_numbers = [num for num in L if num < 0]\n",
    "    return max(negative_numbers, default=0)\n"
   ]
  },
  {
   "cell_type": "code",
   "execution_count": 21,
   "metadata": {},
   "outputs": [],
   "source": [
    "def maximum_negative(L):\n",
    "    negative_numbers= []\n",
    "    for num in L:\n",
    "        if num <0:\n",
    "            negative_numbers.append(num)\n",
    "    \n",
    "    return max(negative_numbers, default=0) # instead of me putting else return 0 im putting it in."
   ]
  },
  {
   "cell_type": "code",
   "execution_count": 22,
   "metadata": {
    "scrolled": true
   },
   "outputs": [
    {
     "name": "stdout",
     "output_type": "stream",
     "text": [
      "SUCCESS\n"
     ]
    }
   ],
   "source": [
    "data = [\n",
    "    [],\n",
    "    [1, 2, 0, 3],\n",
    "    [1, 2],\n",
    "    [-1, 4, 1, -2, -3, -5],\n",
    "    [1, 4, 1, -2, -3, -5],\n",
    "    [1, -4, 1, 2, 3, -5],\n",
    "    [-999],\n",
    "    [2, 3, 40, -1],\n",
    "    [7, -40, 19],\n",
    "    [-2, -3, 0]\n",
    "]\n",
    "correct_answers = [0, 0, 0, -1, -2, -4, -999, -1, -40, -2]\n",
    "test_function(data, correct_answers, maximum_negative)"
   ]
  },
  {
   "cell_type": "code",
   "execution_count": 23,
   "metadata": {},
   "outputs": [
    {
     "name": "stdout",
     "output_type": "stream",
     "text": [
      "0\t0\t0\t-1\t-2\t-4\t-999\t-1\t-40\t-2\t"
     ]
    }
   ],
   "source": [
    "for k in data:\n",
    "    print(maximum_negative(k), end = \"\\t\")"
   ]
  },
  {
   "cell_type": "code",
   "execution_count": null,
   "metadata": {},
   "outputs": [],
   "source": []
  },
  {
   "cell_type": "code",
   "execution_count": null,
   "metadata": {},
   "outputs": [],
   "source": []
  },
  {
   "cell_type": "markdown",
   "metadata": {},
   "source": [
    "### Problem 7"
   ]
  },
  {
   "cell_type": "markdown",
   "metadata": {},
   "source": [
    "Write a function that takes one argument: A matrix of integers ``M`` and:\n",
    "* For each **row** computes the maximum negative element.\n",
    "* Returns the **sum of those elements**.\n",
    "\n",
    "You can use the function from Problem 6 in your solution."
   ]
  },
  {
   "cell_type": "markdown",
   "metadata": {},
   "source": [
    "#### Using List comprehension"
   ]
  },
  {
   "cell_type": "code",
   "execution_count": 24,
   "metadata": {},
   "outputs": [],
   "source": [
    "\n",
    "def sum_max_negative_rows(M):\n",
    "    max_negatives = [maximum_negative(row) for row in M]\n",
    "    return sum(max_negatives)"
   ]
  },
  {
   "cell_type": "code",
   "execution_count": null,
   "metadata": {},
   "outputs": [],
   "source": []
  },
  {
   "cell_type": "code",
   "execution_count": null,
   "metadata": {},
   "outputs": [],
   "source": []
  },
  {
   "cell_type": "code",
   "execution_count": 25,
   "metadata": {},
   "outputs": [
    {
     "name": "stdout",
     "output_type": "stream",
     "text": [
      "SUCCESS\n"
     ]
    }
   ],
   "source": [
    "data = [\n",
    "    [[1, 2, 3], [4, 5, 6], [7, 8, 9]],\n",
    "    [[-1, 4, 1, -2, -3, -5],[1, 4, 1, -2, -3, -5],[1, -4, 1, 2, 3, -5]],\n",
    "    [[-1000], [-50], [10]],\n",
    "    [[-1000, -50, 10]]\n",
    "]\n",
    "correct_answers = [0, -7, -1050, -50]\n",
    "test_function(data, correct_answers, sum_max_negative_rows)"
   ]
  },
  {
   "cell_type": "code",
   "execution_count": null,
   "metadata": {},
   "outputs": [],
   "source": []
  },
  {
   "cell_type": "code",
   "execution_count": 26,
   "metadata": {},
   "outputs": [
    {
     "name": "stdout",
     "output_type": "stream",
     "text": [
      "0\t-7\t-1050\t-50\t"
     ]
    }
   ],
   "source": [
    "for j in data:\n",
    "    print(sum_max_negative_rows(j), end = \"\\t\")"
   ]
  },
  {
   "cell_type": "code",
   "execution_count": null,
   "metadata": {},
   "outputs": [],
   "source": []
  },
  {
   "cell_type": "markdown",
   "metadata": {},
   "source": [
    "### Problem 8"
   ]
  },
  {
   "cell_type": "markdown",
   "metadata": {},
   "source": [
    "Write a function that takes one argument: A string ``s`` and returns another string ``t``. The string ``t`` should be constructed from ``s`` such that:\n",
    "* All **upper** case letters from ``s`` are changed into **lower** case.\n",
    "* All **lower** case letters from ``s`` are changed into **upper** case.\n",
    "* All characters from ``s`` that are not letters are **deleted**."
   ]
  },
  {
   "cell_type": "code",
   "execution_count": 27,
   "metadata": {},
   "outputs": [],
   "source": [
    "def transform_string(s):\n",
    "    transformed = \"\"  # Here i am returning the empty string \n",
    "    \n",
    "    \n",
    "    for char in s:\n",
    "        if char.islower():\n",
    "            transformed += char.upper() # Here transforming Lower to Upper \n",
    "            \n",
    "            \n",
    "        elif char.isupper():\n",
    "            transformed += char.lower()  # Here i am tranforming the Upper to Lower cases \n",
    "            \n",
    "            \n",
    "        \n",
    "        elif not char.isalpha():    # Skip non-alpha characters\n",
    "            continue\n",
    "            \n",
    "            \n",
    "    return transformed"
   ]
  },
  {
   "cell_type": "code",
   "execution_count": null,
   "metadata": {},
   "outputs": [],
   "source": []
  },
  {
   "cell_type": "code",
   "execution_count": 28,
   "metadata": {},
   "outputs": [
    {
     "data": {
      "text/plain": [
       "'hELOlllidbIDBJGUIOUIGHEIUEUIEIBFINSKD'"
      ]
     },
     "execution_count": 28,
     "metadata": {},
     "output_type": "execute_result"
    }
   ],
   "source": [
    "transform_string(\"HeloLLLIDBidbjgui39-203ou2igheiue0uie2ibfinskd\")"
   ]
  },
  {
   "cell_type": "code",
   "execution_count": null,
   "metadata": {},
   "outputs": [],
   "source": []
  },
  {
   "cell_type": "code",
   "execution_count": 29,
   "metadata": {},
   "outputs": [
    {
     "name": "stdout",
     "output_type": "stream",
     "text": [
      "SUCCESS\n"
     ]
    }
   ],
   "source": [
    "data = [\n",
    "    '',\n",
    "    'BHQQSRYAZ',\n",
    "    'afcxztdf',\n",
    "    '?12125&!!!',\n",
    "    'q4,1o\\n0OPq1RWW'\n",
    "]\n",
    "correct_answers = ['', 'bhqqsryaz', 'AFCXZTDF', '', 'QOopQrww']\n",
    "test_function(data, correct_answers, transform_string)"
   ]
  },
  {
   "cell_type": "code",
   "execution_count": 30,
   "metadata": {},
   "outputs": [
    {
     "name": "stdout",
     "output_type": "stream",
     "text": [
      "\tbhqqsryaz\tAFCXZTDF\t\tQOopQrww\t"
     ]
    }
   ],
   "source": [
    "for check in data:\n",
    "    print(transform_string(check) ,end = \"\\t\")"
   ]
  },
  {
   "cell_type": "code",
   "execution_count": null,
   "metadata": {},
   "outputs": [],
   "source": []
  },
  {
   "cell_type": "code",
   "execution_count": null,
   "metadata": {},
   "outputs": [],
   "source": []
  },
  {
   "cell_type": "markdown",
   "metadata": {},
   "source": [
    "### Problem 9"
   ]
  },
  {
   "cell_type": "markdown",
   "metadata": {},
   "source": [
    "Write a function that takes two arguments:\n",
    "* The **first** argument is a list `L` that contains tuples. Each tuple contains 3 elements. The first is a string, which is a name. The second is one character: ``'F'`` for female or ``'M'`` for male. The third element is an integer which is a mark.\n",
    "* The **second** argument ``mode`` is one character: ``'M'``, ``'F'`` or ``'A'``, standing for male, female and all.\n",
    "\n",
    "The function should return one **float** number.\n",
    "* If the second argument is ``'F'``, it should be the average mark for females.\n",
    "* If the second argument is ``'M'``, it should be the average mark for males.\n",
    "* If the second argument is ``'A'``, it should be the average mark for all students.\n",
    "* If there are no students in a given category, return ``0.0``."
   ]
  },
  {
   "cell_type": "code",
   "execution_count": 31,
   "metadata": {},
   "outputs": [],
   "source": [
    "def average_mark(L, mode):\n",
    "    # Initialize variables to hold the total marks and count\n",
    "    total_marks = 0\n",
    "    counter = 0\n",
    "    \n",
    "    # Iterate through the list based on the mode\n",
    "    for name, gender, mark in L:\n",
    "        if mode == 'F' and gender == 'F':\n",
    "            total_marks += mark\n",
    "            counter += 1\n",
    "        elif mode == 'M' and gender == 'M':\n",
    "            total_marks += mark\n",
    "            counter += 1\n",
    "        elif mode == 'A':\n",
    "            total_marks += mark\n",
    "            counter += 1\n",
    "    if counter > 0:\n",
    "        return total_marks / counter\n",
    "    else:\n",
    "        return float(0)\n"
   ]
  },
  {
   "cell_type": "code",
   "execution_count": 32,
   "metadata": {},
   "outputs": [
    {
     "name": "stdout",
     "output_type": "stream",
     "text": [
      "SUCCESS\n"
     ]
    }
   ],
   "source": [
    "import math\n",
    "data1 = [\n",
    "    [],\n",
    "    [('Ibrahim', 'M', 30), ('John', 'M', 40), ('Emmanuel', 'M', 50)],\n",
    "    [('Gladys', 'F', 61), ('Grace', 'F', 71), ('Henriette', 'F', 81)],\n",
    "    [('Jacqeuline', 'F', 92), ('Jean', 'M', 32), ('Jennifer', 'F', 45), ('Yemi', 'F', 53), \n",
    "     ('Mohamed', 'M', 73), ('Remy', 'M', 69), ('Titus', 'M', 39), ('Teboho', 'M', 61), \n",
    "     ('Martin', 'M', 88), ('Therese', 'F', 79)],\n",
    "    [('Mohamed', 'M', 73), ('Remy', 'M', 69), ('Titus', 'M', 39), ('Teboho', 'M', 61), \n",
    "     ('Martin', 'M', 88), ('Therese', 'F', 79),\n",
    "     ('Jacqeuline', 'F', 92), ('Jean', 'M', 32), ('Jennifer', 'F', 45), ('Yemi', 'F', 53)], \n",
    "    [('Martin', 'M', 88), ('Therese', 'F', 79),\n",
    "     ('Jacqeuline', 'F', 92), ('Jean', 'M', 32), ('Jennifer', 'F', 45), ('Yemi', 'F', 53),\n",
    "     ('Mohamed', 'M', 73), ('Remy', 'M', 69), ('Titus', 'M', 39), ('Teboho', 'M', 61)] \n",
    "]\n",
    "data2 = ['A', 'F', 'M', 'F', 'M', 'A']\n",
    "correct_answers = [0.0, 0.0, 0.0, 67.25, 60.333333333333336, 63.1]\n",
    "\n",
    "def test_average(data1, data2, correct_answers, tolerance=1e-6):\n",
    "    for i in range(len(data1)):\n",
    "        answer = average_mark(data1[i], data2[i])\n",
    "        if not (isinstance(answer, float)) or math.fabs(answer-correct_answers[i]) > tolerance:\n",
    "            print('WRONG ANSWER')\n",
    "            print('Arguments:', data1[i], data2[i])\n",
    "            print('Correct answer:', correct_answers[i])\n",
    "            print('Your answer:', answer)\n",
    "            return\n",
    "    print('SUCCESS')\n",
    "    \n",
    "test_average(data1, data2, correct_answers)"
   ]
  },
  {
   "cell_type": "markdown",
   "metadata": {},
   "source": [
    "## Part II: Algorithms"
   ]
  },
  {
   "cell_type": "markdown",
   "metadata": {},
   "source": [
    "Use Python dictionaries so that:\n",
    "* Every time the function is called on an input, it memorizes the output in the dictionary.\n",
    "* If the function is called for the second time on the same input, it looks up the answer in the dictionary instead of computing it from the beginning.\n",
    "This technique is called **memoization**.\n",
    "\n",
    "**Hint** Despite my previous advice, in this problem it is useful to use a global variable. Also look up the dictionary method `dict.get`."
   ]
  },
  {
   "cell_type": "code",
   "execution_count": null,
   "metadata": {},
   "outputs": [],
   "source": []
  },
  {
   "cell_type": "code",
   "execution_count": null,
   "metadata": {},
   "outputs": [],
   "source": []
  },
  {
   "cell_type": "code",
   "execution_count": 33,
   "metadata": {},
   "outputs": [],
   "source": [
    "memory = {}\n",
    "\n",
    "def factorial_memorized(n):\n",
    "    # Base case\n",
    "    if n == 0  or n==1:\n",
    "        return 1\n",
    "\n",
    "    # Check if the result is already in the dictionary\n",
    "    if n in memory:\n",
    "        return memory[n]\n",
    "    \n",
    "    # Compute the factorial and store the result in the dictionary\n",
    "    memory[n] = n * factorial(n - 1)\n",
    "    \n",
    "    return memory[n]\n"
   ]
  },
  {
   "cell_type": "code",
   "execution_count": 34,
   "metadata": {
    "scrolled": true
   },
   "outputs": [
    {
     "name": "stdout",
     "output_type": "stream",
     "text": [
      "CPU times: user 5 µs, sys: 1 µs, total: 6 µs\n",
      "Wall time: 7.15 µs\n"
     ]
    },
    {
     "data": {
      "text/plain": [
       "3628800"
      ]
     },
     "execution_count": 34,
     "metadata": {},
     "output_type": "execute_result"
    }
   ],
   "source": [
    "%%time\n",
    "\n",
    "\n",
    "factorial_memorized(10)"
   ]
  },
  {
   "cell_type": "code",
   "execution_count": null,
   "metadata": {},
   "outputs": [],
   "source": []
  },
  {
   "cell_type": "code",
   "execution_count": 35,
   "metadata": {},
   "outputs": [
    {
     "data": {
      "text/plain": [
       "402387260077093773543702433923003985719374864210714632543799910429938512398629020592044208486969404800479988610197196058631666872994808558901323829669944590997424504087073759918823627727188732519779505950995276120874975462497043601418278094646496291056393887437886487337119181045825783647849977012476632889835955735432513185323958463075557409114262417474349347553428646576611667797396668820291207379143853719588249808126867838374559731746136085379534524221586593201928090878297308431392844403281231558611036976801357304216168747609675871348312025478589320767169132448426236131412508780208000261683151027341827977704784635868170164365024153691398281264810213092761244896359928705114964975419909342221566832572080821333186116811553615836546984046708975602900950537616475847728421889679646244945160765353408198901385442487984959953319101723355556602139450399736280750137837615307127761926849034352625200015888535147331611702103968175921510907788019393178114194545257223865541461062892187960223838971476088506276862967146674697562911234082439208160153780889893964518263243671616762179168909779911903754031274622289988005195444414282012187361745992642956581746628302955570299024324153181617210465832036786906117260158783520751516284225540265170483304226143974286933061690897968482590125458327168226458066526769958652682272807075781391858178889652208164348344825993266043367660176999612831860788386150279465955131156552036093988180612138558600301435694527224206344631797460594682573103790084024432438465657245014402821885252470935190620929023136493273497565513958720559654228749774011413346962715422845862377387538230483865688976461927383814900140767310446640259899490222221765904339901886018566526485061799702356193897017860040811889729918311021171229845901641921068884387121855646124960798722908519296819372388642614839657382291123125024186649353143970137428531926649875337218940694281434118520158014123344828015051399694290153483077644569099073152433278288269864602789864321139083506217095002597389863554277196742822248757586765752344220207573630569498825087968928162753848863396909959826280956121450994871701244516461260379029309120889086942028510640182154399457156805941872748998094254742173582401063677404595741785160829230135358081840096996372524230560855903700624271243416909004153690105933983835777939410970027753472000000000000000000000000000000000000000000000000000000000000000000000000000000000000000000000000000000000000000000000000000000000000000000000000000000000000000000000000000000000000000000000000000000000000000000000000000000000000000000000000000000000"
      ]
     },
     "execution_count": 35,
     "metadata": {},
     "output_type": "execute_result"
    }
   ],
   "source": [
    "factorial_memorized(1000)"
   ]
  },
  {
   "cell_type": "code",
   "execution_count": 36,
   "metadata": {},
   "outputs": [],
   "source": [
    "n = 10**5+1\n",
    "x = factorial(n)"
   ]
  },
  {
   "cell_type": "code",
   "execution_count": null,
   "metadata": {},
   "outputs": [],
   "source": []
  },
  {
   "cell_type": "code",
   "execution_count": 37,
   "metadata": {},
   "outputs": [
    {
     "name": "stdout",
     "output_type": "stream",
     "text": [
      "CPU times: user 12.6 s, sys: 1.42 ms, total: 12.6 s\n",
      "Wall time: 12.6 s\n"
     ]
    }
   ],
   "source": [
    "%%time\n",
    "for i in range(10):\n",
    "    y = factorial(n)"
   ]
  },
  {
   "cell_type": "code",
   "execution_count": null,
   "metadata": {},
   "outputs": [],
   "source": []
  },
  {
   "cell_type": "code",
   "execution_count": 38,
   "metadata": {},
   "outputs": [
    {
     "name": "stdout",
     "output_type": "stream",
     "text": [
      "CPU times: user 1.24 s, sys: 29 µs, total: 1.24 s\n",
      "Wall time: 1.24 s\n"
     ]
    }
   ],
   "source": [
    "%%time\n",
    "for i in range(10):\n",
    "    y = factorial_memorized(n)\n",
    "    if x != y:\n",
    "        print('WRONG ANSWER')\n",
    "        break"
   ]
  },
  {
   "cell_type": "code",
   "execution_count": null,
   "metadata": {},
   "outputs": [],
   "source": []
  },
  {
   "cell_type": "markdown",
   "metadata": {},
   "source": [
    "Test on the following code, and compare with the other two versions."
   ]
  },
  {
   "cell_type": "markdown",
   "metadata": {},
   "source": [
    "The second code should run at least 10 times faster than the first one.\n",
    "\n",
    "**Bonus** Try to improve so that the function runs faster not only if given exactly the same input, but also if it is given a different input which is close to another input which was already computed."
   ]
  },
  {
   "cell_type": "code",
   "execution_count": null,
   "metadata": {},
   "outputs": [],
   "source": []
  },
  {
   "cell_type": "code",
   "execution_count": null,
   "metadata": {},
   "outputs": [],
   "source": []
  },
  {
   "cell_type": "code",
   "execution_count": null,
   "metadata": {},
   "outputs": [],
   "source": []
  },
  {
   "cell_type": "markdown",
   "metadata": {},
   "source": [
    "### Problem 11: Fast subproducts"
   ]
  },
  {
   "cell_type": "markdown",
   "metadata": {},
   "source": [
    "Recall the subproduct exercise from Lecture 4. In the lecture we will see the solution to this exercise that runs in time $O(n)$ when all entries are positive $a_i>0$. Extend this solution to the general case, where $a_i$ can be arbitrary real numbers (positive, zero or negative). Test your solution on some data that you generated. The algorithm should return a triple $(i, j, P(i,j))$ denoting the location and value of a minimum subproduct."
   ]
  },
  {
   "cell_type": "markdown",
   "metadata": {},
   "source": [
    "## Old one for >0"
   ]
  },
  {
   "cell_type": "code",
   "execution_count": 39,
   "metadata": {},
   "outputs": [],
   "source": [
    "\n",
    "def small(A):\n",
    "#     b_0 = A[0]\n",
    "    b = [A[0]] # Taking the first element\n",
    "    for i in range(1,len(A)): # Range i want to loop over 1 to n-1\n",
    "        \n",
    "        b.append(min(A[i]*b[-1], A[i]))    # Appending my result and chack the min   \n",
    "        \n",
    "        \n",
    "    return min(b)"
   ]
  },
  {
   "cell_type": "markdown",
   "metadata": {},
   "source": [
    "## For the positive, negative and zeros"
   ]
  },
  {
   "cell_type": "markdown",
   "metadata": {},
   "source": [
    "well this has to take a building block from the case for >0"
   ]
  },
  {
   "cell_type": "code",
   "execution_count": 40,
   "metadata": {},
   "outputs": [],
   "source": [
    "def smallest_subproduct_general(A):\n",
    "    n = len(A)\n",
    "    if n == 0:\n",
    "        return \"Empty List\"\n",
    "    \n",
    "    min_min = float('inf') \n",
    "    best_i = best_j = 0\n",
    "    \n",
    "    for i in range(n):\n",
    "        current_product = 1\n",
    "        for j in range(i, n):\n",
    "            current_product *= A[j]\n",
    "            if current_product < min_min:\n",
    "                min_min = current_product\n",
    "                best_i = i\n",
    "                best_j = j\n",
    "    \n",
    "    return best_i, best_j, min_min"
   ]
  },
  {
   "cell_type": "code",
   "execution_count": null,
   "metadata": {},
   "outputs": [],
   "source": []
  },
  {
   "cell_type": "code",
   "execution_count": 41,
   "metadata": {},
   "outputs": [],
   "source": [
    "import numpy as np\n",
    "np.random.seed(3)\n",
    "INPUTS = [\n",
    "    [0.1, 0.3, 2, 0.3, 1.1, 2],\n",
    "    [-0.1, 0.3, 2, -0.3, -1.1, 2],\n",
    "    [2],\n",
    "    [5, 1],\n",
    "     list( np.random.normal(size=100) ),\n",
    "     list( np.random.normal(size=1000) ),\n",
    "#     list( np.random.normal(size=10**7) )\n",
    "]\n",
    "correct_answers = [\n",
    "    (0, 3, 0.018),\n",
    "    (4, 5, -2.2),\n",
    "    (0, 0, 2),\n",
    "    (1, 1, 1),\n",
    "    (57, 61, -3.0025970154184027),\n",
    "    (834, 838, -9.12027615840467),\n",
    "    (334406, 334424, -6152.68646331551)\n",
    "]\n",
    "def test_smallest_subproduct(data, correct_answers, f, tolerance=1e-6):\n",
    "    for i in range(len(data)):\n",
    "        answer = f(data[i])\n",
    "        c_answer = correct_answers[i]\n",
    "        if (type(answer) != tuple \n",
    "                or len(answer) != 3 \n",
    "                or answer[0] != c_answer[0]\n",
    "                or answer[1] != c_answer[1]\n",
    "                or abs(answer[2]-c_answer[2]) > tolerance):\n",
    "            print('WRONG ANSWER')\n",
    "            print('Argument:', data[i])\n",
    "            print('Correct answer:', c_answer)\n",
    "            print('Your answer:', answer)\n",
    "            return\n",
    "    print('SUCCESS')"
   ]
  },
  {
   "cell_type": "code",
   "execution_count": 42,
   "metadata": {},
   "outputs": [],
   "source": [
    "data = [\n",
    "    [],\n",
    "    [1, 2, 0, 3],\n",
    "    [1, 2],\n",
    "    [-1, 4, 1, -2, -3, -5],\n",
    "    [1, 4, 1, -2, -3, -5],\n",
    "    [1, -4, 1, 2, 3, -5],\n",
    "    [-999],\n",
    "    [2, 3, 40, -1],\n",
    "    [7, -40, 19],\n",
    "    [-2, -3, 0]\n",
    "]"
   ]
  },
  {
   "cell_type": "code",
   "execution_count": 43,
   "metadata": {},
   "outputs": [
    {
     "name": "stdout",
     "output_type": "stream",
     "text": [
      "SUCCESS\n",
      "CPU times: user 357 ms, sys: 448 ms, total: 805 ms\n",
      "Wall time: 40.7 ms\n"
     ]
    }
   ],
   "source": [
    "%%time\n",
    "test_smallest_subproduct(INPUTS, correct_answers, smallest_subproduct_general)"
   ]
  },
  {
   "cell_type": "code",
   "execution_count": null,
   "metadata": {},
   "outputs": [],
   "source": []
  },
  {
   "cell_type": "code",
   "execution_count": 44,
   "metadata": {},
   "outputs": [
    {
     "name": "stdout",
     "output_type": "stream",
     "text": [
      "(0, 3, 0.018)\t(4, 5, -2.2)\t(0, 0, 2)\t(1, 1, 1)\t(57, 61, -3.0025970154184027)\t(834, 838, -9.12027615840467)\t"
     ]
    }
   ],
   "source": [
    "for test in INPUTS:\n",
    "    print(smallest_subproduct_general(test), end = \"\\t\")"
   ]
  },
  {
   "cell_type": "code",
   "execution_count": null,
   "metadata": {},
   "outputs": [],
   "source": []
  },
  {
   "cell_type": "markdown",
   "metadata": {},
   "source": [
    "### Problem 12: Maximum submatrix"
   ]
  },
  {
   "cell_type": "markdown",
   "metadata": {},
   "source": [
    "Solve the following problem:\n",
    "\n",
    "INPUT: A matrix with positive integers ``M`` of dimensions ``2n x 2n``.\n",
    "\n",
    "OUTPUT: The maximum sum of a ``n x n`` submatrix of ``M``.\n",
    "\n",
    "Write as fast algorithm as you can. The simplest method is ``O(n^4)``. The best possible is ``O(n^2)``. Other algorithms are also possible, for example ``O(n^3)``. **Focus on the correctness first and efficiency second.** "
   ]
  },
  {
   "cell_type": "code",
   "execution_count": 45,
   "metadata": {
    "scrolled": true
   },
   "outputs": [],
   "source": [
    "import numpy as np\n",
    "\n",
    "def maximum_matrix(M):\n",
    "    n = len(M) // 2\n",
    "    max_sum = -np.inf\n",
    "    \n",
    "    for i in range(2 * n - n + 1): \n",
    "        for j in range(2 * n - n + 1): \n",
    "            current_sum = 0\n",
    "            \n",
    "            for x in range(n):\n",
    "                for y in range(n):\n",
    "                    current_sum += M[i + x][j + y]\n",
    "    \n",
    "            if current_sum > max_sum:\n",
    "                max_sum = current_sum\n",
    "    \n",
    "    return max_sum"
   ]
  },
  {
   "cell_type": "code",
   "execution_count": 46,
   "metadata": {},
   "outputs": [
    {
     "name": "stdout",
     "output_type": "stream",
     "text": [
      "57157\n"
     ]
    }
   ],
   "source": [
    "\n",
    "M =[[842,655,195,544,768,354,285,491,49,2,917,398,822,126,286,186,278,587,877,973],\n",
    "[199,820,414,592,968,11,409,932,847,20,710,167,531,700,532,789,631,543,739,850],\n",
    "[351,516,1,581,668,127,495,177,89,893,485,352,401,51,81,749,154,369,67,863],\n",
    "[905,473,159,37,676,80,918,2,993,312,857,118,791,642,505,284,565,667,292,265],\n",
    "[329,758,667,339,452,950,955,724,95,986,255,7,853,390,543,345,470,354,970,288],\n",
    "[373,5,566,193,904,75,362,11,424,303,312,367,981,129,618,650,742,786,232,447],\n",
    "[47,582,174,632,425,505,703,127,502,931,273,963,438,577,712,730,408,718,327,409],\n",
    "[668,443,856,542,518,794,715,9,526,833,324,158,246,867,130,572,86,386,186,262],\n",
    "[325,632,471,315,99,538,897,81,371,886,32,967,569,818,50,299,524,479,586,463],\n",
    "[819,124,483,172,146,518,131,324,637,929,732,690,994,989,735,825,760,755,902,566],\n",
    "[393,546,545,949,641,34,381,499,462,686,975,757,885,430,295,574,503,671,634,425],\n",
    "[678,336,151,370,142,946,412,332,765,890,302,68,448,850,172,372,985,908,260,600],\n",
    "[588,399,4,913,201,222,945,808,361,975,689,438,799,647,721,80,634,435,20,211],\n",
    "[124,506,295,11,396,134,237,84,99,862,862,205,324,226,162,368,484,961,348,342],\n",
    "[803,603,28,126,851,393,742,625,619,700,390,564,264,539,572,121,472,925,327,751],\n",
    "[479,297,442,698,506,716,164,457,971,972,851,472,922,649,273,71,491,251,256,394],\n",
    "[880,723,782,515,269,283,51,635,238,676,439,0,555,232,843,459,554,207,826,14],\n",
    "[598,52,320,133,816,72,183,182,225,261,16,742,780,734,369,560,256,693,564,127],\n",
    "[763,896,515,449,779,441,120,113,447,939,635,671,820,168,670,800,931,772,94,402],\n",
    "[133,761,829,794,41,979,96,422,839,593,824,161,477,575,386,762,663,526,625,555]]\n",
    "\n",
    "print(maximum_matrix(M)) "
   ]
  },
  {
   "cell_type": "code",
   "execution_count": null,
   "metadata": {},
   "outputs": [],
   "source": []
  },
  {
   "cell_type": "code",
   "execution_count": 47,
   "metadata": {},
   "outputs": [
    {
     "name": "stdout",
     "output_type": "stream",
     "text": [
      "SUCCESS\n"
     ]
    }
   ],
   "source": [
    "# If your code is too slow, you can comment out the larger tests.\n",
    "def generate_pseudorandom_matrix(n):\n",
    "    m = 134456\n",
    "    a = 8121\n",
    "    b = 28411\n",
    "    current = 91\n",
    "    \n",
    "    L = []\n",
    "    for r in range(2*n):\n",
    "        L.append([])\n",
    "        for c in range(2*n):\n",
    "            L[r].append( current )\n",
    "            current = (a*current+b)%m\n",
    "    return L\n",
    "\n",
    "data = [\n",
    "    [ [1, -1], [0, 3] ],\n",
    "    [ [1, 2, 3, 4], [5, 6, 7, 9], [2, 1, -3, 5], [1, 3, 1, -2] ],\n",
    "    generate_pseudorandom_matrix(41),\n",
    "    generate_pseudorandom_matrix(99),\n",
    "#     generate_pseudorandom_matrix(999),\n",
    "]\n",
    "correct_answers = [ 3, 23, 116796717, 667424478, 67110262708 ]\n",
    "\n",
    "test_function(data, correct_answers, maximum_matrix)"
   ]
  },
  {
   "cell_type": "markdown",
   "metadata": {},
   "source": [
    "### Problem 13: Scheduling classrooms"
   ]
  },
  {
   "cell_type": "markdown",
   "metadata": {},
   "source": [
    "You are the head tutor in charge of AIMS schedule. The building has $k$ classrooms numbered from 1 to $k$ and you are given a list of $n$ lectures. Each lecture is a pair of integers $(s_i, f_i)$ where $s_i$ is the starting time and $f_i$ the finishing time of the lecture, $0\\le s_i\\le f_i\\le 10^6$. Your task is to assign classrooms to lectures, so that no two lectures that overlap in time are assigned to the same room. If one lecture finishes at exactly the same time as another lecture starts, you are allowed to place them in the same room.\n",
    "\n",
    "Return a list of $n$ integers, where for every lecture you specify the room. If it is not possible to schedule all lectures, return the integer $-1$."
   ]
  },
  {
   "cell_type": "code",
   "execution_count": 48,
   "metadata": {},
   "outputs": [],
   "source": [
    "def schedule_classes(k, L):\n",
    "    pass"
   ]
  },
  {
   "cell_type": "markdown",
   "metadata": {},
   "source": [
    "**Examples** On input `k=1` and `L=[(3, 5), (1, 3)]`, the output should be\n",
    "`[1, 1]`, as you have to put all lectures in the only classroom available. It is fine that the first lecture starts at the same time as the second lecture ends.\n",
    "\n",
    "For input `k=1` and `L=[(3, 6), (1, 4)]`, the output is `-1`, as from time 3 to 4 there are two lectures at the same time.\n",
    "\n",
    "For `k=2` and `L=[(3, 6), (1, 4)]`, the output can be `[1, 2]`. However, it is not the only correct output.\n",
    "\n",
    "For `k=2` and `L=[(4, 7), (9, 12), (5, 8), (2, 5), (1, 3)]`, a correct output is `[1, 1, 2, 2, 1]`. Again, the correct output is not unique."
   ]
  },
  {
   "cell_type": "code",
   "execution_count": 49,
   "metadata": {},
   "outputs": [],
   "source": [
    "class LectureScheduler:\n",
    "    def __init__(self, num_rooms, lectures):\n",
    "        self.num_rooms = num_rooms\n",
    "        self.lectures = lectures\n",
    "        self.schedule = [-1] * len(lectures)  \n",
    "        self.rooms = []  \n",
    "\n",
    "    def assign_rooms(self):\n",
    "        \n",
    "        if not self.lectures:\n",
    "            return self.schedule\n",
    "\n",
    "        \n",
    "        self.lectures.sort(key=lambda x: x[0])\n",
    "        \n",
    "        for i in range(len(self.lectures)):\n",
    "            assigned = False\n",
    "            \n",
    "            for room_id in range(len(self.rooms)):\n",
    "                \n",
    "                if self.rooms[room_id][-1][1] <= self.lectures[i][0]:\n",
    "                    self.rooms[room_id].append(self.lectures[i])\n",
    "                    self.schedule[i] = room_id + 1\n",
    "                    assigned = True\n",
    "                    break\n",
    "\n",
    "            if not assigned:\n",
    "                if len(self.rooms) < self.num_rooms:\n",
    "                    self.rooms.append([self.lectures[i]])\n",
    "                    self.schedule[i] = len(self.rooms)\n",
    "                else:\n",
    "                    return -1\n",
    "        \n",
    "        return self.schedule\n"
   ]
  },
  {
   "cell_type": "code",
   "execution_count": 50,
   "metadata": {},
   "outputs": [
    {
     "name": "stdout",
     "output_type": "stream",
     "text": [
      "[1, 1]\n",
      "-1\n",
      "[1, 2]\n",
      "[1, 2, 1, 2, 1]\n"
     ]
    }
   ],
   "source": [
    "scheduler = LectureScheduler(1, [(3, 5), (1, 3)])\n",
    "print(scheduler.assign_rooms())  \n",
    "scheduler = LectureScheduler(1, [(3, 6), (1, 4)])\n",
    "print(scheduler.assign_rooms())  \n",
    "scheduler = LectureScheduler(2, [(3, 6), (1, 4)])\n",
    "print(scheduler.assign_rooms()) \n",
    "scheduler = LectureScheduler(2, [(4, 7), (9, 12), (5, 8), (2, 5), (1, 3)])\n",
    "print(scheduler.assign_rooms())"
   ]
  },
  {
   "cell_type": "code",
   "execution_count": null,
   "metadata": {},
   "outputs": [],
   "source": []
  },
  {
   "cell_type": "code",
   "execution_count": null,
   "metadata": {},
   "outputs": [],
   "source": []
  }
 ],
 "metadata": {
  "kernelspec": {
   "display_name": "Python 3 (ipykernel)",
   "language": "python",
   "name": "python3"
  },
  "language_info": {
   "codemirror_mode": {
    "name": "ipython",
    "version": 3
   },
   "file_extension": ".py",
   "mimetype": "text/x-python",
   "name": "python",
   "nbconvert_exporter": "python",
   "pygments_lexer": "ipython3",
   "version": "3.11.2"
  }
 },
 "nbformat": 4,
 "nbformat_minor": 4
}
