{
 "cells": [
  {
   "cell_type": "markdown",
   "id": "a3112832-15cd-4de8-94e1-687aa7b25f5b",
   "metadata": {},
   "source": [
    "# Assignment 3"
   ]
  },
  {
   "cell_type": "code",
   "execution_count": 1,
   "id": "13e7a613-aa62-48b8-85a6-a8c984cd08e5",
   "metadata": {},
   "outputs": [],
   "source": [
    "import numpy as np\n",
    "import matplotlib.pyplot as plt"
   ]
  },
  {
   "cell_type": "code",
   "execution_count": 2,
   "id": "00d037e8-f2b6-4e1b-a93d-2e19d9b8575f",
   "metadata": {},
   "outputs": [],
   "source": [
    "def test_function(data, correct_answers, f):\n",
    "    for i in range(len(data)):\n",
    "        answer = f(data[i])\n",
    "        if answer != correct_answers[i]:\n",
    "            print('WRONG ANSWER')\n",
    "            print('Argument:', data[i])\n",
    "            print('Correct answer:', correct_answers[i])\n",
    "            print('Your answer:', answer)\n",
    "            return\n",
    "    print('SUCCESS')"
   ]
  },
  {
   "cell_type": "markdown",
   "id": "1545ca64-e8de-4df3-bca5-53ae9f3e0261",
   "metadata": {},
   "source": [
    "## Problem 1: Longest run\n",
    "\n",
    "Let `A` be a numpy 1D array of integers. We say that positions $i,i+1,\\ldots,i+k-1$ form a **run** of length $k$ if\n",
    "$A[i]=A[i+1]=\\ldots=A[i+k-1]$. Write a function that returns the length of a longest run in `A`:"
   ]
  },
  {
   "cell_type": "code",
   "execution_count": 3,
   "id": "0654447b-f70d-4926-a84b-f52f5ff0fc3f",
   "metadata": {},
   "outputs": [],
   "source": [
    "def longest_run(A):\n",
    "    if len(A) == 0:\n",
    "        return 0\n",
    "    max_run = 1\n",
    "    current_run = 1\n",
    "    for i in range(1, len(A)):\n",
    "        if A[i] == A[i - 1]:\n",
    "            current_run += 1\n",
    "            if current_run > max_run:\n",
    "                max_run = current_run\n",
    "        else:\n",
    "            current_run = 1\n",
    "    return max_run\n"
   ]
  },
  {
   "cell_type": "code",
   "execution_count": 4,
   "id": "b0229d4d",
   "metadata": {},
   "outputs": [
    {
     "data": {
      "text/plain": [
       "16"
      ]
     },
     "execution_count": 4,
     "metadata": {},
     "output_type": "execute_result"
    }
   ],
   "source": [
    "longest_run([1,2,3,43,5,5,6,6,6,6,6,6,6,6,7,7,7,7,7,7,7,7,7,7,7,7,7,7,7,7,78,7,7,7,6,7,6,6,6,5,56,6,5,5,5,5,5])"
   ]
  },
  {
   "cell_type": "markdown",
   "id": "65cd9abf-8a69-4396-b0e4-fd9d6faae581",
   "metadata": {},
   "source": [
    "Use the code below to test your function:"
   ]
  },
  {
   "cell_type": "code",
   "execution_count": 5,
   "id": "d7eb4fbf-067a-4d35-8e67-d6b1b392894c",
   "metadata": {},
   "outputs": [
    {
     "name": "stdout",
     "output_type": "stream",
     "text": [
      "SUCCESS\n"
     ]
    }
   ],
   "source": [
    "def generate_pseudorandom_array(n, k):\n",
    "    m = 999331\n",
    "    a = 8121\n",
    "    b = 28411\n",
    "    current = 91\n",
    "    \n",
    "    L = []\n",
    "    for i in range(n):\n",
    "        L.append(current % k)\n",
    "        current = (a*current+b)%m\n",
    "    return np.array(L)\n",
    "data = [\n",
    "    np.array([]),\n",
    "    np.array([1]),\n",
    "    np.array([1,2,1]),\n",
    "    np.array([-1,-2,-2]),\n",
    "    generate_pseudorandom_array(1000, 3),\n",
    "    generate_pseudorandom_array(10000, 2),\n",
    "    generate_pseudorandom_array(1000000, 2)\n",
    "]\n",
    "correct_answers = [0, 1, 1, 2, 7, 16, 16]\n",
    "test_function(data, correct_answers, longest_run)"
   ]
  },
  {
   "cell_type": "markdown",
   "id": "dc130ec6-e9cb-4651-92c9-267aac5c1757",
   "metadata": {},
   "source": [
    "## Problem 2: Lower upper"
   ]
  },
  {
   "cell_type": "markdown",
   "id": "da58a910-1c3a-4225-9622-1f73221861dd",
   "metadata": {},
   "source": [
    "Write a function that takes one argument: string ``s`` and **returns** a list with two elements. The first element should be the number of **lowercase letters** in ``s``. The second element should be the number of **uppercase letters** in ``s``."
   ]
  },
  {
   "cell_type": "markdown",
   "id": "f0d210ad-bab0-4439-b563-3ddf41b96cb0",
   "metadata": {},
   "source": [
    "Hint/reminder: To check if one character ``c`` is lowercase you use ``c.islower()``. To check uppercase you use ``c.isupper()``."
   ]
  },
  {
   "cell_type": "code",
   "execution_count": 6,
   "id": "d738ed1f-74a4-4d76-a174-924595ae9007",
   "metadata": {},
   "outputs": [],
   "source": [
    "def count_letters(s):\n",
    "    small_count, big_count = 0,0\n",
    "    for i in s:\n",
    "        if i.islower():\n",
    "            small_count+=1\n",
    "            \n",
    "        elif i.isupper():\n",
    "            big_count +=1\n",
    "            \n",
    "    return [small_count, big_count]\n",
    "        "
   ]
  },
  {
   "cell_type": "code",
   "execution_count": 7,
   "id": "27f89b50",
   "metadata": {},
   "outputs": [
    {
     "data": {
      "text/plain": [
       "[3, 4]"
      ]
     },
     "execution_count": 7,
     "metadata": {},
     "output_type": "execute_result"
    }
   ],
   "source": [
    "count_letters('AbCdEfG')"
   ]
  },
  {
   "cell_type": "code",
   "execution_count": null,
   "id": "9f1d7570",
   "metadata": {},
   "outputs": [],
   "source": []
  },
  {
   "cell_type": "markdown",
   "id": "73ed908f-7b48-4d33-9a33-55de2e44a92e",
   "metadata": {},
   "source": [
    "Test your function using the code below:"
   ]
  },
  {
   "cell_type": "code",
   "execution_count": 8,
   "id": "74d0c866-dbe5-4921-ba9b-ca8e2f7560fb",
   "metadata": {},
   "outputs": [
    {
     "name": "stdout",
     "output_type": "stream",
     "text": [
      "SUCCESS\n"
     ]
    }
   ],
   "source": [
    "data = [\n",
    "    '',\n",
    "    'abc',\n",
    "    'ABC',\n",
    "    'aBcDeFg',\n",
    "    'AbCdEfG',\n",
    "    'abc123ABC',\n",
    "    '!2a!!!?'\n",
    "]\n",
    "correct_answers = [[0, 0], [3, 0], [0, 3], [4, 3], [3, 4], [3, 3], [1, 0]]\n",
    "test_function(data, correct_answers, count_letters)"
   ]
  },
  {
   "cell_type": "markdown",
   "id": "66631034-7cad-4305-b527-f674876794ac",
   "metadata": {},
   "source": [
    "## Problem 3: Sum of maximums"
   ]
  },
  {
   "cell_type": "markdown",
   "id": "ce86eee6-a938-49fc-ac0f-8c0aef435cb9",
   "metadata": {},
   "source": [
    "Write a function that takes one argument: A 2-dimensional **numpy array** of floats ``M`` and:\n",
    "* For each column computes the maximum negative element.\n",
    "* Returns the sum of those elements."
   ]
  },
  {
   "cell_type": "code",
   "execution_count": 9,
   "id": "8c577bc1",
   "metadata": {
    "scrolled": true
   },
   "outputs": [
    {
     "data": {
      "text/plain": [
       "array([[3, 9, 3],\n",
       "       [7, 6, 1]])"
      ]
     },
     "execution_count": 9,
     "metadata": {},
     "output_type": "execute_result"
    }
   ],
   "source": [
    "test = np.random.randint(10, size=(2,3))\n",
    "test"
   ]
  },
  {
   "cell_type": "code",
   "execution_count": 10,
   "id": "053bcead",
   "metadata": {},
   "outputs": [
    {
     "data": {
      "text/plain": [
       "3"
      ]
     },
     "execution_count": 10,
     "metadata": {},
     "output_type": "execute_result"
    }
   ],
   "source": [
    "test.shape[1]"
   ]
  },
  {
   "cell_type": "code",
   "execution_count": 11,
   "id": "2f2bac54",
   "metadata": {},
   "outputs": [
    {
     "name": "stdout",
     "output_type": "stream",
     "text": [
      "[3 7]\n",
      "[9 6]\n",
      "[3 1]\n"
     ]
    }
   ],
   "source": [
    "for col in test.T:\n",
    "    print(col)"
   ]
  },
  {
   "cell_type": "code",
   "execution_count": 12,
   "id": "6dceddf9",
   "metadata": {},
   "outputs": [
    {
     "name": "stdout",
     "output_type": "stream",
     "text": [
      "[3 7]\n",
      "[9 6]\n",
      "[3 1]\n"
     ]
    }
   ],
   "source": [
    "\n",
    "\n",
    "for col in test.T:\n",
    "    print(col)"
   ]
  },
  {
   "cell_type": "code",
   "execution_count": 13,
   "id": "93517eac",
   "metadata": {},
   "outputs": [],
   "source": [
    "import numpy as np\n",
    "\n",
    "def sum_max_negative_columns(M):\n",
    "    max_negatives = []\n",
    "    \n",
    "    for col in range(M.shape[1]):\n",
    "        column = M[:, col]\n",
    "        negative_elements = column[column < 0]\n",
    "#         print(column, negative)\n",
    "        if len(negative_elements) > 0:\n",
    "            max_negatives.append(np.max(negative_elements))\n",
    "        else:\n",
    "            max_negatives.append(0)\n",
    "    \n",
    "    return sum(max_negatives)\n"
   ]
  },
  {
   "cell_type": "code",
   "execution_count": 14,
   "id": "b5ab1393-b1eb-46be-ba7f-ea20cfd8ad13",
   "metadata": {},
   "outputs": [
    {
     "name": "stdout",
     "output_type": "stream",
     "text": [
      "SUCCESS\n"
     ]
    }
   ],
   "source": [
    "data = [\n",
    "    np.array([[1., 2., 3.], [4., 5., 6.], [7., 8., 9.]]),\n",
    "    np.array([[-1., 4., 1., -2., -3., -5.],\n",
    "             [1., 4., 1., -2., -3., -5.],\n",
    "             [1., -4., 1., 2., 3., -5.]]),\n",
    "    np.array([[-1000.], [-50.], [10.]]),\n",
    "    np.array([[-1000., -50., 10.]])\n",
    "]\n",
    "correct_answers = [0, -15, -50, -1050]\n",
    "test_function(data, correct_answers, sum_max_negative_columns)"
   ]
  },
  {
   "cell_type": "markdown",
   "id": "e817f174-045e-4e41-afb2-83b3a6e8030f",
   "metadata": {},
   "source": [
    "## Problem 4: Points on a circle"
   ]
  },
  {
   "cell_type": "markdown",
   "id": "93059c89-f373-4af1-831a-59050f14b67a",
   "metadata": {},
   "source": [
    "Write a function that takes a positive integer `n` and returns a pair of arrays `X, Y` such `(X[i],Y[i])` are `n` evenly spaced points on the unit circle $\\{(x,y):x^2+y^2=1\\}$. For example, for `n=4` your function can return `X=[1,0,-1,0]` and `Y=[0,1,0,-1]` (other correct answers are possible). Test your function on a few examples for different values of `n` and visualise the results."
   ]
  },
  {
   "cell_type": "code",
   "execution_count": 15,
   "id": "83d17114",
   "metadata": {},
   "outputs": [
    {
     "data": {
      "image/png": "[encoded data removed]",
      "text/plain": [
       "<Figure size 1500x500 with 3 Axes>"
      ]
     },
     "metadata": {},
     "output_type": "display_data"
    }
   ],
   "source": [
    "\n",
    "\n",
    "def unit_circle_points(n):\n",
    "    angles = np.linspace(0, 2 * np.pi, n, endpoint=False)\n",
    "    X = np.cos(angles)\n",
    "    Y = np.sin(angles)\n",
    "    return X, Y\n",
    "\n",
    "\n",
    "# Test the function and visualize the results\n",
    "n_values = [4, 8, 12]\n",
    "fig, axes = plt.subplots(1, len(n_values), figsize=(15, 5))\n",
    "\n",
    "for i, n in enumerate(n_values):\n",
    "    X, Y = unit_circle_points(n)\n",
    "    axes[i].plot(X, Y, 'o', markersize=4, color='blue')\n",
    "    axes[i].set_title(f'n = {n}')\n",
    "    axes[i].set_xlabel('X')\n",
    "    axes[i].set_ylabel('Y')\n",
    "\n",
    "  # Add the unit circle outline\n",
    "    circle = plt.Circle((0, 0), 1, color='red', fill=False)\n",
    "    axes[i].add_artist(circle)\n",
    "    axes[i].set_aspect('equal')\n",
    "    for j in range(n):\n",
    "        axes[i].text(X[j], Y[j], f\"({round(X[j], 1)}, {round(Y[j], 1)})\")\n",
    "\n",
    "plt.tight_layout()\n",
    "plt.show()"
   ]
  },
  {
   "cell_type": "code",
   "execution_count": null,
   "id": "f50f590a",
   "metadata": {},
   "outputs": [],
   "source": []
  },
  {
   "cell_type": "markdown",
   "id": "f8dbd4c7-575b-4c1b-a0d5-c8240ddbd81e",
   "metadata": {},
   "source": [
    "## Problem 5: Newton method for computing square roots"
   ]
  },
  {
   "cell_type": "code",
   "execution_count": null,
   "id": "d0d269a2",
   "metadata": {},
   "outputs": [],
   "source": []
  },
  {
   "cell_type": "code",
   "execution_count": 16,
   "id": "824d1128",
   "metadata": {},
   "outputs": [],
   "source": [
    "import numpy as np"
   ]
  },
  {
   "cell_type": "markdown",
   "id": "0b3d8085-e8b1-4be1-916a-39db776bb255",
   "metadata": {},
   "source": [
    "Write a function that takes two arguments: floating-point positive numb a function that takes two arguments: floating-point positive numbers ``x`` and ``error_bound`` and returns the floating-point approximation of the square root of ``x``. The function should use Newton'sers ``x`` and ``error_bound`` and returns the floating-point approximation of the square root of ``x``. The function should use Newton's method given by the formula:\n",
    "\n",
    "$y_0 = x/2$\n",
    "\n",
    "$y_{i+1} = \\left(y_i + \\frac{x}{y_i}\\right) / 2$\n",
    "\n",
    "You will need to decide when to stop the iteration. Use a ``while`` loop to stop when \n",
    "\n",
    "$|y_i - y_{i+1}| < \\textrm{error\\_bound}$\n",
    "\n",
    "If you need to understand the method better, you can look it up on Wikipedia:\n",
    "https://en.wikipedia.org/wiki/Methods_of_computing_square_roots#Babylonian_method"
   ]
  },
  {
   "cell_type": "code",
   "execution_count": 17,
   "id": "11e1080f-ebf0-41b8-b250-cb6486544780",
   "metadata": {},
   "outputs": [],
   "source": [
    "def newton_square_root(x, error_bound=1e-9):\n",
    "    ycurrent= x/2\n",
    "    yprevious = 0.00\n",
    "    \n",
    "    while np.abs(ycurrent-yprevious)> error_bound:\n",
    "        yprevious = ycurrent\n",
    "        print(yprevious)\n",
    "        ycurrent = (yprevious + x/yprevious)/2\n",
    "#         return \n",
    "        \n",
    "    return ycurrent\n",
    "        "
   ]
  },
  {
   "cell_type": "code",
   "execution_count": 18,
   "id": "00d76d0c",
   "metadata": {},
   "outputs": [
    {
     "name": "stdout",
     "output_type": "stream",
     "text": [
      "0.01\n",
      "1.005\n",
      "0.5124502487562188\n",
      "0.2757392138419574\n",
      "0.17413575804495918\n",
      "0.1444943381958916\n",
      "0.1414540330128693\n",
      "0.14142136001158034\n",
      "0.14142135623730956\n"
     ]
    },
    {
     "data": {
      "text/plain": [
       "0.1414213562373095"
      ]
     },
     "execution_count": 18,
     "metadata": {},
     "output_type": "execute_result"
    }
   ],
   "source": [
    "newton_square_root(.02)"
   ]
  },
  {
   "cell_type": "code",
   "execution_count": 19,
   "id": "10d5befb",
   "metadata": {},
   "outputs": [],
   "source": [
    "\n",
    "# import pandas as pd\n",
    "\n",
    "\n",
    "# testdata = np.linspace(0.01,.999, 5)\n",
    "# for i in testdata:\n",
    "# #     solutions = pd.DataFrame(newton_square_root(i))\n",
    "#     print(newton_square_root(i), end = \"\\t\")"
   ]
  },
  {
   "cell_type": "markdown",
   "id": "4750306b-40ba-4340-a1c1-1a60049e9935",
   "metadata": {},
   "source": [
    "Test your method on some examples\n",
    "\n",
    "**Bonus** Read on measuring execution time in Python (for example the ``timeit`` package). Compare the speed of your function (you should make many calls, for example 100000) for different error bounds. Also compare with Python functions ``math.sqrt`` and `np.sqrt`."
   ]
  },
  {
   "cell_type": "code",
   "execution_count": null,
   "id": "40f95d37",
   "metadata": {},
   "outputs": [],
   "source": []
  },
  {
   "cell_type": "markdown",
   "id": "622e5b1e-a33b-4f22-9b1b-05a3945db5a4",
   "metadata": {},
   "source": [
    "## Problem 6: Special triples"
   ]
  },
  {
   "cell_type": "markdown",
   "id": "1cc608c1-21cf-442e-97a4-ca5f401089b9",
   "metadata": {},
   "source": [
    "* Write a function that takes two inputs: positive integers `x` and `y`. The function outputs `True` if the digits of `y` are a permutation of digits of `x`. Please consult the testing code to make sure you understand the problem statement."
   ]
  },
  {
   "cell_type": "code",
   "execution_count": 20,
   "id": "b93a2937",
   "metadata": {},
   "outputs": [],
   "source": [
    "def is_permutation(x, y):\n",
    "    # Convert both integers to their string representations\n",
    "    str_x = str(x)\n",
    "    str_y = str(y)\n",
    "    \n",
    "    # If the lengths of the strings are different, they cannot be permutations\n",
    "    if len(str_x) != len(str_y):\n",
    "        return False\n",
    "    \n",
    "    if str_x == str_y:\n",
    "        return True\n",
    "    \n",
    "    sorted_x = sorted(str_x)\n",
    "    sorted_y = sorted(str_y)\n",
    "    \n",
    "\n",
    "    return sorted_x == sorted_y"
   ]
  },
  {
   "cell_type": "code",
   "execution_count": null,
   "id": "7db3f5e3",
   "metadata": {},
   "outputs": [],
   "source": []
  },
  {
   "cell_type": "code",
   "execution_count": 21,
   "id": "9938596b-1ded-496c-b0aa-73527379ebc2",
   "metadata": {},
   "outputs": [],
   "source": [
    "data = [\n",
    "    (123, 124),\n",
    "    (11, 111),\n",
    "    (178, 871),\n",
    "    (1151, 5111),\n",
    "    (2123, 1223),\n",
    "    (1266, 2116)\n",
    "]\n",
    "correct_answers = [False, False, True, True, True, False]\n",
    "def test_permutation(data, correct_answers, f):\n",
    "    for i in range(len(data)):\n",
    "        answer = f(*data[i])\n",
    "        if answer != correct_answers[i]:\n",
    "            print('WRONG ANSWER')\n",
    "            print('Argument:', data[i])\n",
    "            print('Correct answer:', correct_answers[i])\n",
    "            print('Your answer:', answer)\n",
    "            return\n",
    "    print('SUCCESS')"
   ]
  },
  {
   "cell_type": "code",
   "execution_count": 22,
   "id": "dfa271c5-4b26-4048-922e-e5ae74064ed2",
   "metadata": {},
   "outputs": [
    {
     "name": "stdout",
     "output_type": "stream",
     "text": [
      "SUCCESS\n"
     ]
    }
   ],
   "source": [
    "test_permutation(data, correct_answers, is_permutation)"
   ]
  },
  {
   "cell_type": "markdown",
   "id": "0a6faaff-f3d3-4003-8cc5-7cbeb601c0a6",
   "metadata": {},
   "source": [
    "* Use the function `is_permutation` and other Python code to find all triples of integers $0<a<b<c<10^4$ such that:\n",
    "    1) $a,b,c$ are an arithmetic progression, that is $b-a=c-b$.\n",
    "    2) All of $a,b,c$ are prime numbers.\n",
    "    3) Digits of $a,b,c$ are permutations of each other."
   ]
  },
  {
   "cell_type": "code",
   "execution_count": 23,
   "id": "b20e9ee1",
   "metadata": {},
   "outputs": [
    {
     "name": "stdout",
     "output_type": "stream",
     "text": [
      "(1487, 4817, 8147)\n",
      "(2969, 6299, 9629)\n"
     ]
    }
   ],
   "source": [
    "highest = 10_000\n",
    "\n",
    "def is_prime(n):\n",
    "    \n",
    "    if n <= 1:\n",
    "        return False\n",
    "    for i in range(2, int(n**0.5) + 1):\n",
    "        if n % i == 0:\n",
    "            return 0\n",
    "    return 1\n",
    "\n",
    "primes = [n for n in range(2, highest) if is_prime(n)]\n",
    "\n",
    "triples = []\n",
    "\n",
    "for i in range(len(primes)):\n",
    "    for j in range(i + 1, len(primes)):\n",
    "        a = primes[i]\n",
    "        b = primes[j]\n",
    "        c = 2 * b - a\n",
    "        if c < highest and c in primes and is_permutation(a, c) and is_permutation(b, c):\n",
    "            triples.append((a, b, c))\n",
    "\n",
    "\n",
    "for triple in triples:\n",
    "    print(triple)"
   ]
  },
  {
   "cell_type": "code",
   "execution_count": null,
   "id": "676b51f7",
   "metadata": {},
   "outputs": [],
   "source": []
  },
  {
   "cell_type": "markdown",
   "id": "fa82bcb4-3519-474f-a4f4-d8403ff5d4e1",
   "metadata": {},
   "source": [
    "## Problem 7: Snake list\n",
    "\n",
    "Write a function that takes as input a square matrix (list of lists) and returns a list which contains all elements from the matrix in a \"snake\" (spiral) fashion."
   ]
  },
  {
   "cell_type": "code",
   "execution_count": 24,
   "id": "0c3c96f2",
   "metadata": {},
   "outputs": [],
   "source": [
    "import pandas as pd\n",
    "\n",
    "def snake_list(matrix):\n",
    "    df = pd.DataFrame(matrix)\n",
    "    res = []\n",
    "\n",
    "    while not df.empty:\n",
    "        res.extend(df.iloc[0])\n",
    "        df = df.drop(df.index[0])\n",
    "        if not df.empty:\n",
    "            df = df.T[::-1].reset_index(drop=True)\n",
    "\n",
    "    return res\n"
   ]
  },
  {
   "cell_type": "code",
   "execution_count": null,
   "id": "591bb865",
   "metadata": {},
   "outputs": [],
   "source": []
  },
  {
   "cell_type": "code",
   "execution_count": 25,
   "id": "2794e4ab-b46d-47a8-84c8-baa0a7d7cd55",
   "metadata": {},
   "outputs": [],
   "source": [
    "M = [\n",
    "    [1, 2, 3],\n",
    "    [4, 5, 6],\n",
    "    [7, 8, 9]\n",
    "]"
   ]
  },
  {
   "cell_type": "code",
   "execution_count": 26,
   "id": "1786d83f",
   "metadata": {},
   "outputs": [
    {
     "data": {
      "text/plain": [
       "[1, 2, 3, 6, 9, 8, 7, 4, 5]"
      ]
     },
     "execution_count": 26,
     "metadata": {},
     "output_type": "execute_result"
    }
   ],
   "source": [
    "snake_list(M)"
   ]
  },
  {
   "cell_type": "markdown",
   "id": "65020399-71b0-45ec-bfbe-97bb07f7b291",
   "metadata": {},
   "source": [
    "For the matrix above ``snake_list`` should return the list ``[1, 2, 3, 6, 9, 8, 7, 4, 5]``."
   ]
  },
  {
   "cell_type": "code",
   "execution_count": 27,
   "id": "4b26685f-491a-4fa1-9411-ea24768a4851",
   "metadata": {},
   "outputs": [],
   "source": [
    "M2 = [\n",
    "    [1, 2, 3, 4],\n",
    "    [5, 6, 7, 8],\n",
    "    [9, 10, 11, 12],\n",
    "    [13, 14, 15, 16]\n",
    "]"
   ]
  },
  {
   "cell_type": "code",
   "execution_count": 28,
   "id": "33331cff",
   "metadata": {},
   "outputs": [
    {
     "data": {
      "text/plain": [
       "[1, 2, 3, 4, 8, 12, 16, 15, 14, 13, 9, 5, 6, 7, 11, 10]"
      ]
     },
     "execution_count": 28,
     "metadata": {},
     "output_type": "execute_result"
    }
   ],
   "source": [
    "snake_list(M2)"
   ]
  },
  {
   "cell_type": "code",
   "execution_count": 29,
   "id": "2f6c6dbe",
   "metadata": {},
   "outputs": [],
   "source": [
    "matrix = [\n",
    "    [1, 2, 3,4,5,6],\n",
    "    [7,8,9,10,11,12],\n",
    "    [33,34,35,36,37,38],\n",
    "    [15,16,17,18,19,20],\n",
    "    [21,22,23,24,25,26],\n",
    "    [27,28,29,30,31,32]\n",
    "]"
   ]
  },
  {
   "cell_type": "code",
   "execution_count": null,
   "id": "bc8c4b12",
   "metadata": {},
   "outputs": [],
   "source": []
  },
  {
   "cell_type": "markdown",
   "id": "bd5b9ca3-652a-492b-9a61-8001b1b2de2a",
   "metadata": {},
   "source": [
    "And for this one it should return ``[1, 2, 3, 4, 8, 12, 16, 15, 14, 13, 9, 5, 6, 7, 11, 10]``."
   ]
  },
  {
   "cell_type": "markdown",
   "id": "4f824c5c-b0e4-4001-8b05-7e1d18b485af",
   "metadata": {},
   "source": [
    "## Problem 8: Neural networks"
   ]
  },
  {
   "cell_type": "markdown",
   "id": "e9d02e24-d600-492d-be23-99b4930fd713",
   "metadata": {},
   "source": [
    "A **fully-connected ReLU neural network with one hidden layer** with $d$ **inputs**, $n$ **hidden neurons** and $o$ **outputs** is defined by four arrays of real parameters (**weights**):\n",
    "\n",
    "$$W\\in\\mathbb{R}^{d\\times n},b\\in\\mathbb{R}^n,V\\in\\mathbb{R}^{n\\times o},b'\\in\\mathbb{R}^{o}$$\n",
    "\n",
    "Given the parameters $\\theta=(W,b,V,b')$, the neural network computes a function $f_\\theta:\\mathbb{R}^d\\to\\mathbb{R}^o$ using the formula:\n",
    "\n",
    "$$f_\\theta(x)_k = b'_k+\\sum_{j=1}^n V_{jk}\\mathrm{ReLU}\\left(b_j+\\sum_{i=1}^d W_{ij}x_i\\right)\\text{ for }k=1,\\ldots,o\\;.$$\n",
    "\n",
    "Using matrix notation (and applying ReLU componentwise), we can write this as\n",
    "\n",
    "$$ \\text{Eq. (1):}\\qquad\\qquad f_\\theta(x) = b'+ V^T \\mathrm{ReLU}( b+ W^T x) $$\n",
    "\n",
    "In this problem, we consider a neural network solution for the problem of **handwritten digit classification**. This is a well-known problem for which we will use a public dataset called MNIST. Our input will be grayscale (black-white) pictures with $28\\times 28=784$ pixels. Therefore, we will take\n",
    "$d=784$. The problem we are solving is classifying the digits into one of the values $0,1,\\ldots,9$. Accordingly, we will take the number of outputs $o=10$. The network's output (which is a vector with 10 coordinates) is given by Eq. (1). Then, the network's **prediction** will be the index of the output coordinate (neuron) which gave the largest value. Mathematically,\n",
    "\n",
    "$$ \\text{Eq. (2):}\\qquad\\qquad\\mathrm{pred}_{\\theta}(x)=\\mathrm{argmax}_{k=0,1,\\ldots,9}\\; f_\\theta(x)_k\\;.$$\n",
    "\n",
    "a) Download `mnist_input.npz` and `mnist_weights.npz` files. Several numpy arrays are stored inside those files. Use numpy `np.load` function to load those arrays into memory"
   ]
  },
  {
   "cell_type": "code",
   "execution_count": 30,
   "id": "47695764",
   "metadata": {},
   "outputs": [],
   "source": [
    "import numpy as np\n",
    "import matplotlib.pyplot as plt \n",
    "\n",
    "mnist_input_data = np.load('mnist_inputs.npz')\n",
    "mnist_weights_data = np.load('mnist_weights.npz')\n",
    "\n"
   ]
  },
  {
   "cell_type": "code",
   "execution_count": 31,
   "id": "2bb35a2d",
   "metadata": {},
   "outputs": [
    {
     "name": "stdout",
     "output_type": "stream",
     "text": [
      "Keys in mnist_input.npz: ['images', 'labels']\n",
      "Keys in mnist_weights.npz: ['W', 'b', 'V', 'bprime']\n"
     ]
    }
   ],
   "source": [
    "# To access the arrays stored in the .npz files, you can use the files' keys\n",
    "print(\"Keys in mnist_input.npz:\", mnist_input_data.files)\n",
    "print(\"Keys in mnist_weights.npz:\", mnist_weights_data.files)\n"
   ]
  },
  {
   "cell_type": "code",
   "execution_count": null,
   "id": "4bf03dee",
   "metadata": {},
   "outputs": [],
   "source": []
  },
  {
   "cell_type": "markdown",
   "id": "07ea0675",
   "metadata": {},
   "source": [
    "## The Input Layer data/ input"
   ]
  },
  {
   "cell_type": "code",
   "execution_count": 32,
   "id": "9259cdf6",
   "metadata": {},
   "outputs": [],
   "source": [
    "images = mnist_input_data['images']\n",
    "labels = mnist_input_data['labels']\n",
    "\n"
   ]
  },
  {
   "cell_type": "markdown",
   "id": "3e279f9d",
   "metadata": {},
   "source": [
    "## Weights of our Hidden Layers \n",
    "ie The lecturer gave us the pretrained weights to the model rather than starting with random weights "
   ]
  },
  {
   "cell_type": "code",
   "execution_count": 33,
   "id": "8b2a3401",
   "metadata": {},
   "outputs": [],
   "source": [
    "W = mnist_weights_data['W']\n",
    "b = mnist_weights_data['b']\n",
    "V = mnist_weights_data['V']\n",
    "b_prime = mnist_weights_data['bprime']"
   ]
  },
  {
   "cell_type": "markdown",
   "id": "ee3e6eb7",
   "metadata": {},
   "source": [
    "## The arrays for the imputs for each of the columns"
   ]
  },
  {
   "cell_type": "code",
   "execution_count": null,
   "id": "0eb156fd",
   "metadata": {},
   "outputs": [],
   "source": []
  },
  {
   "cell_type": "code",
   "execution_count": 34,
   "id": "fb43aa64-1d6a-434b-b619-d19184c00363",
   "metadata": {},
   "outputs": [
    {
     "name": "stdout",
     "output_type": "stream",
     "text": [
      "Images Shape\n",
      "(10000, 784)\n",
      "Images Labels Shape \n",
      "(10000,)\n"
     ]
    }
   ],
   "source": [
    "\n",
    "print(\"Images Shape\")\n",
    "print(images.shape)\n",
    "print(\"Images Labels Shape \")\n",
    "print(labels.shape)\n",
    "\n"
   ]
  },
  {
   "cell_type": "markdown",
   "id": "09ab1838",
   "metadata": {},
   "source": [
    "## The arrays for weights for each of the columns "
   ]
  },
  {
   "cell_type": "code",
   "execution_count": 35,
   "id": "c51e049e",
   "metadata": {},
   "outputs": [
    {
     "name": "stdout",
     "output_type": "stream",
     "text": [
      "Weights Shape\n",
      "(784, 12)\n",
      "vector b Shape\n",
      "(12,)\n",
      "V Shape\n",
      "(12, 10)\n",
      "bprime Shape\n",
      "(10,)\n"
     ]
    }
   ],
   "source": [
    "print(\"Weights Shape\")\n",
    "print(W.shape)\n",
    "\n",
    "print(\"vector b Shape\")\n",
    "print(b.shape)\n",
    "\n",
    "print(\"V Shape\")\n",
    "print(V.shape)\n",
    "\n",
    "print(\"bprime Shape\")\n",
    "print(b_prime.shape)"
   ]
  },
  {
   "cell_type": "code",
   "execution_count": null,
   "id": "c88abbe2",
   "metadata": {},
   "outputs": [],
   "source": []
  },
  {
   "cell_type": "markdown",
   "id": "bf0312e7-80ba-4758-af2e-ece64e81d669",
   "metadata": {},
   "source": [
    "b) First, consider `images` and `labels` arrays loaded from `mnist_inputs.npz`. Given index `i`, the element `images[i]` represents a $28\\times 28$ black-white picture with a handwritten digit. Then, the element `labels[i]` is an integer specifying which digit is in the picture.\n",
    "\n",
    "Use `matplotlib` to visualise some example images and check their labels. Hint: look up `np.reshape` and `plt.imshow` functions."
   ]
  },
  {
   "cell_type": "code",
   "execution_count": 36,
   "id": "b1a60a87",
   "metadata": {},
   "outputs": [
    {
     "data": {
      "image/png": "[encoded data removed]",
      "text/plain": [
       "<Figure size 1200x600 with 10 Axes>"
      ]
     },
     "metadata": {},
     "output_type": "display_data"
    }
   ],
   "source": [
    "def visualize_images(indices):\n",
    "    fig, axes = plt.subplots(2, 5, figsize=(12, 6))\n",
    "    \n",
    "    for idx, ax in zip(indices, axes.flatten()):\n",
    "        input_array_1 = images[idx]\n",
    "        input_array_2 = labels[idx]\n",
    "        \n",
    "        image_reshaped = np.reshape(input_array_1, (28, 28))\n",
    "        \n",
    "        ax.imshow(image_reshaped, cmap='gray')\n",
    "        ax.set_title(f'Label: {input_array_2}')\n",
    "        ax.axis('off')\n",
    "    \n",
    "    plt.tight_layout()\n",
    "    plt.show()\n",
    "\n",
    "visualize_images(range(10))\n"
   ]
  },
  {
   "cell_type": "code",
   "execution_count": null,
   "id": "298d51b1",
   "metadata": {},
   "outputs": [],
   "source": []
  },
  {
   "cell_type": "code",
   "execution_count": 37,
   "id": "9429b3ea",
   "metadata": {},
   "outputs": [],
   "source": [
    "import numpy as np\n",
    "\n",
    "class NeuralNetwork:\n",
    "    def __init__(self, W, b, V, b_prime):\n",
    "\n",
    "        self.W = W\n",
    "        self.b = b\n",
    "        self.V = V\n",
    "        self.b_prime = b_prime\n",
    "    # Return the output according to Eq. (1).\n",
    "    # Try writing the function so that x can be either:\n",
    "    #     1) A vector encoding one image. In that case the output should be a vector.\n",
    "    #     2) A matrix with many rows, one row per image. In that case the output should be a matrix.\n",
    "    \n",
    "    \n",
    "    \n",
    "    \n",
    "    \n",
    "    def relu(self, x):\n",
    "\n",
    "        return np.maximum(0, x)\n",
    "\n",
    "    def evaluate(self, x):\n",
    "        if x.ndim == 1:\n",
    "            # If x is a vector\n",
    "#             z = np.dot(self.W.T, x) + self.b\n",
    "            z = self.W.T@ x + self.b\n",
    "            h = self.relu(z)\n",
    "            output = self.V.T@ h + self.b_prime\n",
    "        else:\n",
    "            # If x is a matrix\n",
    "            z = x@ self.W + self.b\n",
    "            h = self.relu(z)\n",
    "            output = h@ self.V + self.b_prime\n",
    "\n",
    "        return output\n",
    "    \n",
    "        # Return the prediction according to Eq. (2).\n",
    "    # As with evaluate, try to create a function that works for x \n",
    "    # which can be either a vector or a matrix.\n",
    "    \n",
    "    \n",
    "\n",
    "    def predict(self, x):\n",
    "        output = self.evaluate(x)\n",
    "        if x.ndim == 1:\n",
    "            # If x is a vector, return a single prediction\n",
    "            return np.argmax(output)\n",
    "        else:\n",
    "            # If x is a matrix, return predictions for each row\n",
    "            return np.argmax(output, axis=1)\n",
    "\n",
    "    def get_accuracy(self, x, labels):\n",
    "\n",
    "        predictions = self.predict(x)\n",
    "        correct_predictions = np.sum(predictions == labels)\n",
    "        accuracy = correct_predictions / len(labels)\n",
    "        \n",
    "        return accuracy\n",
    "\n",
    "\n",
    "\n"
   ]
  },
  {
   "cell_type": "markdown",
   "id": "d92023a1-a2cc-4ada-a15c-9704e3da7091",
   "metadata": {},
   "source": [
    "c) Create a `NeuralNetwork` class with methods `__init__`, `evaluate` and `predict`. Look in the comments for further instructions:"
   ]
  },
  {
   "cell_type": "markdown",
   "id": "a0a9c798",
   "metadata": {},
   "source": [
    "##  Create a NeuralNetwork instance"
   ]
  },
  {
   "cell_type": "code",
   "execution_count": 38,
   "id": "fb3f481d",
   "metadata": {},
   "outputs": [],
   "source": [
    "Fitted_model = NeuralNetwork(W, b, V, b_prime)"
   ]
  },
  {
   "cell_type": "markdown",
   "id": "28f61224",
   "metadata": {},
   "source": [
    "# Test on a single image"
   ]
  },
  {
   "cell_type": "code",
   "execution_count": 39,
   "id": "69200249",
   "metadata": {
    "scrolled": true
   },
   "outputs": [
    {
     "name": "stdout",
     "output_type": "stream",
     "text": [
      "Output for a single image:\n",
      "[ -0.45998187 -11.95910649   1.75289867   4.18892743  -3.42243753\n",
      "   0.30823608  -7.76776153   9.92415517  -0.93978193   3.22780885]\n"
     ]
    }
   ],
   "source": [
    "# Test on a single image\n",
    "single_image = images[0]\n",
    "print(\"Output for a single image:\")\n",
    "print(Fitted_model.evaluate(single_image))"
   ]
  },
  {
   "cell_type": "markdown",
   "id": "ab0da3f5",
   "metadata": {},
   "source": [
    "# Test on multiple images\n",
    "\n",
    "* Given the output of an array with 11 outputs \n",
    "* The goal is to look for the one with the highest weight for instance:\n",
    "* The prediction for the 1st picture is indexed at 7 first row \n",
    "* The imdex with the highest weight is the one the model is predicting as the number from a given input into \n",
    "* Fitted Model and the number for the first input is 7"
   ]
  },
  {
   "cell_type": "code",
   "execution_count": 40,
   "id": "0c53a104",
   "metadata": {},
   "outputs": [
    {
     "name": "stdout",
     "output_type": "stream",
     "text": [
      "Output for multiple images:\n",
      "[[ -0.45998187 -11.95910649   1.75289867   4.18892743  -3.42243753\n",
      "    0.30823608  -7.76776153   9.92415517  -0.93978193   3.22780885]\n",
      " [ -0.0849092    1.11349293   8.56781225   4.80071688 -16.12149105\n",
      "    5.58460642   4.281063   -12.20881373   2.05820625 -15.26011916]\n",
      " [ -5.30826643   4.67848808   0.47731565  -0.92015269  -4.28192505\n",
      "   -1.07730043  -3.18104692  -0.81236035  -0.38178569  -3.00149905]\n",
      " [ 11.0084924  -12.79912769   1.32953534  -0.46946401  -5.33783679\n",
      "   -0.20394259   1.50454215   1.423125     0.52173215  -0.97242643]\n",
      " [ -0.35052832  -5.77851076   1.98249724  -1.48359007   7.65844534\n",
      "   -0.24752229   1.62821678   2.3495278    1.55895814   4.09297057]\n",
      " [ -7.5858401    5.9537375   -0.62802047  -1.24638918  -5.80291452\n",
      "   -1.62878513  -5.80334879  -0.45582201  -0.82049669  -2.24220237]\n",
      " [ -4.31326791  -1.07546101  -5.02993376  -0.24783829   8.74950785\n",
      "    2.76702013  -3.29669685   2.61207868   3.6101984    3.84824202]\n",
      " [ -7.70740509   0.66758421  -4.30379184  -1.26902561   0.44260623\n",
      "    1.05318394  -5.0294111   -1.98214895   0.33701338   5.75272246]\n",
      " [ -1.19121479  -3.93196588   2.64327142  -3.01149406   2.40377768\n",
      "    1.73154022   9.25689636  -6.31787991  -1.96442384  -1.15384632]\n",
      " [ -2.59169375  -8.96005143  -4.30226876  -2.9893883    6.17214606\n",
      "   -1.18681933  -3.25150401   5.86699754   2.33708739  10.54916629]]\n"
     ]
    }
   ],
   "source": [
    "# Test on multiple images\n",
    "print(\"Output for multiple images:\")\n",
    "print(Fitted_model.evaluate(images[:10]))"
   ]
  },
  {
   "cell_type": "markdown",
   "id": "979ab96f",
   "metadata": {},
   "source": [
    "# Test predictions\n",
    "\n",
    "* Now we want to retrive the index positions for each of the highest weights in the predictions "
   ]
  },
  {
   "cell_type": "code",
   "execution_count": 41,
   "id": "bd86ef2f",
   "metadata": {},
   "outputs": [
    {
     "name": "stdout",
     "output_type": "stream",
     "text": [
      "Predictions for multiple images:\n",
      "[7 2 1 0 4 1 4 9 6 9]\n"
     ]
    }
   ],
   "source": [
    "\n",
    "print(\"Predictions for multiple images:\")\n",
    "print(Fitted_model.predict(images[:10]))\n"
   ]
  },
  {
   "cell_type": "markdown",
   "id": "f684b1a0",
   "metadata": {},
   "source": [
    "# Test accuracy"
   ]
  },
  {
   "cell_type": "code",
   "execution_count": 42,
   "id": "480bbfd7",
   "metadata": {},
   "outputs": [
    {
     "name": "stdout",
     "output_type": "stream",
     "text": [
      "Accuracy on the first 500 images:\n",
      "0.938\n"
     ]
    }
   ],
   "source": [
    "print(\"Accuracy on the first 500 images:\")\n",
    "print(Fitted_model.get_accuracy(images[:500], labels[:500]))"
   ]
  },
  {
   "cell_type": "code",
   "execution_count": null,
   "id": "7ec16eb0",
   "metadata": {},
   "outputs": [],
   "source": []
  },
  {
   "cell_type": "code",
   "execution_count": null,
   "id": "6db923fc",
   "metadata": {},
   "outputs": [],
   "source": []
  },
  {
   "cell_type": "markdown",
   "id": "3ec6271b-8a97-4d14-b19a-c18fd2aefd27",
   "metadata": {},
   "source": [
    "d) Test your function on:\n",
    "* Random weight matrices initialized according to the standard Gaussian distribution. Try a few different values of $n$. Can you interpret the results?\n",
    "* The weight matrices loaded from the `mnist_weights.npz` file. What is the $n$ of those weights? What is the accuracy? "
   ]
  },
  {
   "cell_type": "code",
   "execution_count": null,
   "id": "f18ccdf2",
   "metadata": {},
   "outputs": [],
   "source": []
  },
  {
   "cell_type": "code",
   "execution_count": 43,
   "id": "e2a2f2a1",
   "metadata": {},
   "outputs": [
    {
     "name": "stdout",
     "output_type": "stream",
     "text": [
      "Hidden neurons: 100, Accuracy with random weights: 0.0900\n",
      "Hidden neurons: 500, Accuracy with random weights: 0.0850\n",
      "Hidden neurons: 1000, Accuracy with random weights: 0.1390\n",
      "Hidden neurons: 2000, Accuracy with random weights: 0.0910\n",
      "Accuracy with loaded weights: 0.9280\n"
     ]
    }
   ],
   "source": [
    "W_loaded = mnist_weights_data['W']\n",
    "b_loaded = mnist_weights_data['b']\n",
    "V_loaded = mnist_weights_data['V']\n",
    "b_prime_loaded = mnist_weights_data['bprime']\n",
    "\n",
    "# Test with random weights initialized from a Gaussian distribution\n",
    "def test_random_weights(hidden_neurons_list):\n",
    "    accuracies = []\n",
    "    for n in hidden_neurons_list:\n",
    "        d = 784  # Input dimension\n",
    "        o = 10   # Output dimension\n",
    "        W_random = np.random.randn(d, n)\n",
    "        b_random = np.random.randn(n)\n",
    "        V_random = np.random.randn(n, o)\n",
    "        b_prime_random = np.random.randn(o)\n",
    "        nn = NeuralNetwork(W_random, b_random, V_random, b_prime_random)\n",
    "        accuracy = nn.get_accuracy(images[:1000], labels[:1000])  # Use a subset for testing\n",
    "        accuracies.append((n, accuracy))\n",
    "        print(f\"Hidden neurons: {n}, Accuracy with random weights: {accuracy:.4f}\")\n",
    "    return accuracies\n",
    "\n",
    "# Test with loaded weights\n",
    "def test_loaded_weights():\n",
    "    nn = NeuralNetwork(W_loaded, b_loaded, V_loaded, b_prime_loaded)\n",
    "    accuracy = nn.get_accuracy(images[:1000], labels[:1000])  # Use a subset for testing\n",
    "    print(f\"Accuracy with loaded weights: {accuracy:.4f}\")\n",
    "    return accuracy\n",
    "\n",
    "# Test with different values of hidden neurons\n",
    "hidden_neurons_list = [100, 500, 1000, 2000]\n",
    "random_weight_accuracies = test_random_weights(hidden_neurons_list)\n",
    "loaded_weight_accuracy = test_loaded_weights()\n"
   ]
  },
  {
   "cell_type": "markdown",
   "id": "88df48a7",
   "metadata": {},
   "source": [
    "* For the random weights the Accuracies are really bad as there is a need for implementation of Backpropagation such that the model updates its weights at each epoch/ training iteration \n",
    "* The model with the pretrained/ pre-optimized weights is perfoming pretty well with an accuracy of 93% "
   ]
  },
  {
   "cell_type": "code",
   "execution_count": null,
   "id": "12feab64",
   "metadata": {},
   "outputs": [],
   "source": []
  },
  {
   "cell_type": "markdown",
   "id": "c98fafc4-841e-4b1b-a258-2a740eeaecac",
   "metadata": {},
   "source": [
    "## Problem 9: Working with files"
   ]
  },
  {
   "cell_type": "markdown",
   "id": "195f4c33-9fe4-4ae8-9067-35b349c88ec8",
   "metadata": {},
   "source": [
    "This exercise is to practice working with files. \n",
    "\n",
    "There is a file ``sorted_small.txt`` included with this assignment. Solve the problem described below reading your inputs from the file.\n",
    "\n",
    "**Please read the following instructions carefully.** The file contains a number of inputs. **Each input consists of three lines**:\n",
    "* The first line contains two integers $1 \\le a \\le b$.\n",
    "* The second line contains one integer $1 \\le n$.\n",
    "* The third line contains $n$ sorted integers $$1 \\le s_1 \\le s_2 \\le \\ldots \\le s_n.$$\n",
    "\n",
    "All integers on a line are separated by spaces. **You can open the file and see for yourself to understand the input**.\n",
    "\n",
    "For each input, you should output ``True`` or ``False``. You should output ``True`` if there exists $1\\le i \\le n$ such that\n",
    "$$a \\le s_i \\le b.$$\n",
    "\n",
    "**Make a list of all your outputs and compare it with the list of correct answers below**."
   ]
  },
  {
   "cell_type": "code",
   "execution_count": 44,
   "id": "e3e18973",
   "metadata": {},
   "outputs": [
    {
     "name": "stdout",
     "output_type": "stream",
     "text": [
      "[False, True, True, False, True, False, False, True, False, True, True, True, True, False, False, False]\n"
     ]
    }
   ],
   "source": [
    "def check_condition(filename):\n",
    "    results = []\n",
    "    with open(filename, 'r') as file:\n",
    "        while True:\n",
    "            # Read the first line containing l and u\n",
    "            line = file.readline()\n",
    "            if not line:\n",
    "                break\n",
    "            l, u = map(int, line.strip().split())\n",
    "            \n",
    "            # Read the second line containing m\n",
    "            m = int(file.readline().strip())\n",
    "            \n",
    "            # Read the third line containing sorted integers\n",
    "            sorted_integers = list(map(int, file.readline().strip().split()))\n",
    "            \n",
    "            # Check if there exists s such that l <= s <= u\n",
    "            result = any(l <= s <= u for s in sorted_integers)\n",
    "            results.append(result)\n",
    "    \n",
    "    return results\n",
    "\n",
    "# Read the results from the file\n",
    "filename = 'sorted_small.txt'\n",
    "results = check_condition(filename)\n",
    "\n",
    "# Print results\n",
    "print(results)\n"
   ]
  },
  {
   "cell_type": "code",
   "execution_count": null,
   "id": "2621bf97",
   "metadata": {},
   "outputs": [],
   "source": []
  },
  {
   "cell_type": "code",
   "execution_count": 45,
   "id": "953894db-096d-4567-931e-3f7ce56d2103",
   "metadata": {},
   "outputs": [],
   "source": [
    "correct_answers = [False, True, True, False, True, False, False, True, False, True, True, True, True, False, False, False]"
   ]
  },
  {
   "cell_type": "markdown",
   "id": "952818f7",
   "metadata": {},
   "source": [
    "# Lets check if the results are equal\n"
   ]
  },
  {
   "cell_type": "code",
   "execution_count": 46,
   "id": "b69dc7f0",
   "metadata": {},
   "outputs": [],
   "source": [
    "def test(results, correct_answers):\n",
    "    if len(results) != len(correct_answers):\n",
    "        return \"Failed\"\n",
    "\n",
    "    for i in range(len(results)):\n",
    "        if results[i] != correct_answers[i]:\n",
    "            return \"Failed\"\n",
    "            \n",
    "    return 'Success'"
   ]
  },
  {
   "cell_type": "code",
   "execution_count": 47,
   "id": "db622472",
   "metadata": {},
   "outputs": [
    {
     "name": "stdout",
     "output_type": "stream",
     "text": [
      "Success\n"
     ]
    }
   ],
   "source": [
    "print(test(results, correct_answers))"
   ]
  },
  {
   "cell_type": "code",
   "execution_count": null,
   "id": "c9d9f1ff",
   "metadata": {},
   "outputs": [],
   "source": []
  },
  {
   "cell_type": "markdown",
   "id": "ffec4bc7-16eb-4051-bf99-1b11471f0c9f",
   "metadata": {},
   "source": [
    "BONUS: You can try writing \"binary search\" instead of going through the list left-to-right."
   ]
  },
  {
   "cell_type": "code",
   "execution_count": null,
   "id": "b520e7df-90c2-493d-9c05-a267a622958f",
   "metadata": {},
   "outputs": [],
   "source": []
  },
  {
   "cell_type": "markdown",
   "id": "a59c1274-f742-488d-99b0-4e6dc3a00a25",
   "metadata": {},
   "source": [
    "## Problem 10: Sorting lectures "
   ]
  },
  {
   "cell_type": "markdown",
   "id": "d4929e6f-aaee-42ac-a4dc-9a4fbea02b2c",
   "metadata": {},
   "source": [
    "Create a class `Lecture` such that each object contains three attributes (variables) `starting_time`, `finish_time` and `id_number`. Write the `__init__`, `__str__` and `__lt__` methods so that you can sort the a list of lectures according to the starting time. Create a list of lectures to test your class."
   ]
  },
  {
   "cell_type": "code",
   "execution_count": 48,
   "id": "948ad4ab-f2c4-4fa0-8d12-0c2a355c08df",
   "metadata": {},
   "outputs": [],
   "source": [
    "class Lecture:\n",
    "    def __init__(self, starting_time, finish_time, id_number):\n",
    "        self.starting_time = starting_time\n",
    "        self.finish_time = finish_time\n",
    "        self.id_number = id_number\n",
    "\n",
    "    def __str__(self):\n",
    "        return f\"Lecture {self.id_number}: {self.starting_time} - {self.finish_time}\"\n",
    "\n",
    "    def __lt__(self, other):\n",
    "        return self.starting_time < other.starting_time\n",
    "\n"
   ]
  },
  {
   "cell_type": "markdown",
   "id": "da4162c1",
   "metadata": {},
   "source": [
    "  # Create a list of lectures to test the class"
   ]
  },
  {
   "cell_type": "code",
   "execution_count": 49,
   "id": "f3ae62b4",
   "metadata": {},
   "outputs": [
    {
     "name": "stdout",
     "output_type": "stream",
     "text": [
      "Lecture BAYES: 8 - 9\n",
      "Lecture MPS: 9 - 10\n",
      "Lecture PYTHON: 10 - 11\n",
      "Lecture PPS: 11 - 12\n"
     ]
    }
   ],
   "source": [
    "\n",
    "lectures = [\n",
    "    Lecture(9, 10, 'MPS'),\n",
    "    Lecture(11, 12, 'PPS'),\n",
    "    Lecture(10, 11, 'PYTHON'),\n",
    "    Lecture(8, 9, 'BAYES'),\n",
    "]\n",
    "\n",
    "# Sort the lectures by starting time\n",
    "sorted_lectures = sorted(lectures)\n",
    "\n",
    "# Print the sorted lectures\n",
    "for lecture in sorted_lectures:\n",
    "    print(lecture)\n"
   ]
  },
  {
   "cell_type": "code",
   "execution_count": null,
   "id": "d9ad4448",
   "metadata": {},
   "outputs": [],
   "source": []
  },
  {
   "cell_type": "markdown",
   "id": "29cb4236-8e23-4a2e-842b-fecc6c62c95c",
   "metadata": {},
   "source": [
    "## Problem 11: Scheduling classrooms"
   ]
  },
  {
   "cell_type": "markdown",
   "id": "c9faf6d0-794a-4dbe-90de-74bb49f01b5d",
   "metadata": {},
   "source": [
    "You are the head tutor in charge of AIMS schedule. The building has $k$ classrooms numbered from 1 to $k$ and you are given a list of $n$ lectures. Each lecture is a pair of integers $(s_i, f_i)$ where $s_i$ is the starting time and $f_i$ the finishing time of the lecture, $0\\le s_i\\le f_i\\le 10^6$. Your task is to assign classrooms to lectures, so that no two lectures that overlap in time are assigned to the same room. If one lecture finishes at exactly the same time as another lecture starts, you are allowed to place them in the same room.\n",
    "\n",
    "Return a list of $n$ integers, where for every lecture you specify the room. If it is not possible to schedule all lectures, return the integer $-1$."
   ]
  },
  {
   "cell_type": "code",
   "execution_count": 50,
   "id": "1496ac9c-ec3e-4340-afc8-390a00097ddd",
   "metadata": {},
   "outputs": [],
   "source": [
    "class LectureScheduler:\n",
    "    def __init__(self, num_rooms, lectures):\n",
    "        self.num_rooms = num_rooms\n",
    "        self.lectures = lectures\n",
    "        self.schedule = [-1] * len(lectures)  \n",
    "        self.rooms = []  \n",
    "\n",
    "    def assign_rooms(self):\n",
    "        \n",
    "        if not self.lectures:\n",
    "            return self.schedule\n",
    "\n",
    "        \n",
    "        self.lectures.sort(key=lambda x: x[0])\n",
    "        \n",
    "        for i in range(len(self.lectures)):\n",
    "            assigned = False\n",
    "            \n",
    "            for room_id in range(len(self.rooms)):\n",
    "                \n",
    "                if self.rooms[room_id][-1][1] <= self.lectures[i][0]:\n",
    "                    self.rooms[room_id].append(self.lectures[i])\n",
    "                    self.schedule[i] = room_id + 1\n",
    "                    assigned = True\n",
    "                    break\n",
    "\n",
    "            if not assigned:\n",
    "                if len(self.rooms) < self.num_rooms:\n",
    "                    self.rooms.append([self.lectures[i]])\n",
    "                    self.schedule[i] = len(self.rooms)\n",
    "                else:\n",
    "                    return -1\n",
    "        \n",
    "        return self.schedule\n"
   ]
  },
  {
   "cell_type": "markdown",
   "id": "bc9ab022-adc3-4b3c-8aeb-0b84085495df",
   "metadata": {},
   "source": [
    "**Examples** On input `k=1` and `L=[(3, 5), (1, 3)]`, the output should be\n",
    "`[1, 1]`, as you have to put all lectures in the only classroom available. It is fine that the first lecture starts at the same time as the second lecture ends.\n",
    "\n",
    "For input `k=1` and `L=[(3, 6), (1, 4)]`, the output is `-1`, as from time 3 to 4 there are two lectures at the same time.\n",
    "\n",
    "For `k=2` and `L=[(3, 6), (1, 4)]`, the output can be `[1, 2]`. However, it is not the only correct output.\n",
    "\n",
    "For `k=2` and `L=[(4, 7), (9, 12), (5, 8), (2, 5), (1, 3)]`, a correct output is `[1, 1, 2, 2, 1]`. Again, the correct output is not unique."
   ]
  },
  {
   "cell_type": "code",
   "execution_count": 51,
   "id": "0862a97d",
   "metadata": {},
   "outputs": [
    {
     "name": "stdout",
     "output_type": "stream",
     "text": [
      "[1, 1]\n",
      "-1\n",
      "[1, 2]\n",
      "[1, 2, 1, 2, 1]\n"
     ]
    }
   ],
   "source": [
    "scheduler = LectureScheduler(1, [(3, 5), (1, 3)])\n",
    "print(scheduler.assign_rooms())  \n",
    "scheduler = LectureScheduler(1, [(3, 6), (1, 4)])\n",
    "print(scheduler.assign_rooms())  \n",
    "scheduler = LectureScheduler(2, [(3, 6), (1, 4)])\n",
    "print(scheduler.assign_rooms()) \n",
    "scheduler = LectureScheduler(2, [(4, 7), (9, 12), (5, 8), (2, 5), (1, 3)])\n",
    "print(scheduler.assign_rooms())"
   ]
  },
  {
   "cell_type": "code",
   "execution_count": null,
   "id": "2e903203",
   "metadata": {},
   "outputs": [],
   "source": []
  }
 ],
 "metadata": {
  "kernelspec": {
   "display_name": "Python 3 (ipykernel)",
   "language": "python",
   "name": "python3"
  },
  "language_info": {
   "codemirror_mode": {
    "name": "ipython",
    "version": 3
   },
   "file_extension": ".py",
   "mimetype": "text/x-python",
   "name": "python",
   "nbconvert_exporter": "python",
   "pygments_lexer": "ipython3",
   "version": "3.11.2"
  }
 },
 "nbformat": 4,
 "nbformat_minor": 5
}
