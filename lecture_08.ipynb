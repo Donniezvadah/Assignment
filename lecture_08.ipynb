{
 "cells": [
  {
   "cell_type": "markdown",
   "id": "4ba63132-fa7f-4db5-90b3-2c1f3e0be004",
   "metadata": {},
   "source": [
    "# Lecture 8\n",
    "\n",
    "# Scientific computing: numpy and matplotlib"
   ]
  },
  {
   "cell_type": "markdown",
   "id": "fe7c812b-4947-4263-be05-27622fb2fdb3",
   "metadata": {},
   "source": [
    "As usual, this is a short and superficial introduction. For more, please see:\n",
    "* Sections 14, 15, 21, 24 of the [AIMS Python documentation](https://python.aims.ac.za/).\n",
    "* [Python Data Science Handbook](https://jakevdp.github.io/PythonDataScienceHandbook/), which is a freely available book with jupyter notebooks attachments. In addition to `numpy` and `matplotlib`, it also covers tha data manipulation module `pandas` and machine learning library `scikit-learn`.\n",
    "* [Scientific Python cheatsheet](https://ipgp.github.io/scientific_python_cheat_sheet/). With this resource you can quickly look up a specific function.\n",
    "* [Numpy documentation](https://numpy.org/doc/stable/index.html). Note that the documentation is for the new version Numpy 2.1. In the course I am using an older version 1.26. The differences betwen them should not matter at our level.\n",
    "* [Matplotlib documentation](https://matplotlib.org/stable/index.html)."
   ]
  },
  {
   "cell_type": "code",
   "execution_count": null,
   "id": "677b5c2f-8da4-47c0-8ff1-86e4c71f43a9",
   "metadata": {},
   "outputs": [],
   "source": [
    "import numpy as np\n",
    "import matplotlib.pyplot as plt"
   ]
  },
  {
   "cell_type": "code",
   "execution_count": null,
   "id": "7bd874f3-861e-4914-b42a-2d5fb04b0914",
   "metadata": {},
   "outputs": [],
   "source": [
    "np.__version__"
   ]
  },
  {
   "cell_type": "markdown",
   "id": "7f6d1c2e-6668-4070-87af-fc5c4c0fc0fe",
   "metadata": {},
   "source": [
    "## Numpy arrays"
   ]
  },
  {
   "cell_type": "markdown",
   "id": "967f5cdf-46ae-45bd-af11-ee167d738e4d",
   "metadata": {},
   "source": [
    "The most important data type in `numpy` is called `array`. Arrays are similar to lists, but there are also important differences:\n",
    "* It is common to grow lists by using the method `list.append`. On the other hand, for arrays it is typically more efficient to decide the size and shape at the time the array is created. After an array  has been  created, its elements can be updated.\n",
    "* Multidimensional arrays (matrices, tensors etc.) are easier to use than working with list of lists (of lists).\n",
    "* Lists can store any objects, even objects of different types in one list. In contrast, all objects in one array have the same numerical type.\n",
    "* Arrays are optimized for their size and type of elements. Because of that, the mathematical operations on arrays can be more efficient."
   ]
  },
  {
   "cell_type": "markdown",
   "id": "7dc94fda-88eb-4a53-9a17-43c79220ab96",
   "metadata": {},
   "source": [
    "## Creating arrays from a list"
   ]
  },
  {
   "cell_type": "code",
   "execution_count": null,
   "id": "737b1f9e-000c-4a4f-907e-aad1cc76d668",
   "metadata": {},
   "outputs": [],
   "source": [
    "A = np.array([1, 2, -3])\n",
    "print(A, A.dtype, A.shape)"
   ]
  },
  {
   "cell_type": "code",
   "execution_count": null,
   "id": "19e885d5-d824-469f-b182-a7ad9f8a0965",
   "metadata": {},
   "outputs": [],
   "source": [
    "A "
   ]
  },
  {
   "cell_type": "code",
   "execution_count": null,
   "id": "05cd8b38-7698-4961-864d-b847364a6560",
   "metadata": {},
   "outputs": [],
   "source": [
    "B = np.array([[1.1, 2, 3], [-4, 5, 6]])\n",
    "print(B, B.dtype, B.shape)"
   ]
  },
  {
   "cell_type": "markdown",
   "id": "688f192a-671b-43e1-88a4-5e0cff931f73",
   "metadata": {},
   "source": [
    "## Basic array attributes"
   ]
  },
  {
   "cell_type": "markdown",
   "id": "18668a5e-3d9d-459d-8333-860279018299",
   "metadata": {},
   "source": [
    "`dtype` attribute indicates the type of elements. It is common to use `np.int64` for integers and `np.float64` for floating point numbers. `64` means that each number takes **64 bits (8 bytes)**. For integers that means that you can store numbers between $-2^{63}$ and $2^{63}-1$. Note the difference: Python `int` can be of any size, and take a large amount of memory. If you try to store too large (or too small) number in `np.int64` type, it will **overflow**."
   ]
  },
  {
   "cell_type": "code",
   "execution_count": null,
   "id": "9055eb76-7ab7-40f6-b2f0-52013f6b85f1",
   "metadata": {},
   "outputs": [],
   "source": [
    "# Factorial with type int\n",
    "n = 1\n",
    "print(type(n))\n",
    "for i in range(1, 100):\n",
    "    n *= i\n",
    "print(n)"
   ]
  },
  {
   "cell_type": "code",
   "execution_count": null,
   "id": "d9dee30c-68e2-4e29-ad50-f231a6321a5b",
   "metadata": {},
   "outputs": [],
   "source": [
    "# Factorial with int64\n",
    "n2 = np.int64(1)\n",
    "print(type(n2))\n",
    "for i in range(1, 100):\n",
    "    n2 *= i\n",
    "print(n2)"
   ]
  },
  {
   "cell_type": "markdown",
   "id": "30f91e1d-d774-42af-b90b-f3779947c5f9",
   "metadata": {},
   "source": [
    "`np.float64` is a **floating-point** number. It is stored in the form $s\\cdot (1+f)\\cdot 2^e$, where \n",
    "$s\\in\\{1,-1\\}, 0\\le f<1$ and $e\\in\\mathbb{Z}$. $s$ is called the **sign**, $f$ the **fraction** and $e$ the **exponent**. Sign is stored with 1 bit, fraction with 52 bits, and exponent with 11 bits. This format ensures that we can represent both very small and very large numbers (roughly between $2^{-1000}$ and $2^{1000}$) with 52 bits (around 15 decimal digits) of precision in the leading digits.\n",
    "\n",
    "Another important attribute is `shape`. It is always a tuple. The length of the tuple gives the dimension. If length is 1 the array can be interpreted as a vector. If length is 2 it can be a matrix. If length is 3 it can be a 3D tensor, and so on. Each coordinate of the `shape` tuple gives a size of one dimension. Note that `(n,)` is a special way to write a tuple with just one element."
   ]
  },
  {
   "cell_type": "code",
   "execution_count": null,
   "id": "b0bd72ff-1a57-49b2-a36f-67826d89abe0",
   "metadata": {},
   "outputs": [],
   "source": [
    "A = np.array([1, 2, -3])\n",
    "print(A.shape)"
   ]
  },
  {
   "cell_type": "code",
   "execution_count": null,
   "id": "3cc2bc8f-2eb2-45e1-9cee-381c8bf8aab3",
   "metadata": {},
   "outputs": [],
   "source": [
    "B = np.array([[1.1, 2, 3], [-4, 5, 6]])\n",
    "nrows, ncols = B.shape\n",
    "for r in range(nrows):\n",
    "    for c in range(ncols):\n",
    "        print(B[r, c], end=' ')\n",
    "    print()"
   ]
  },
  {
   "cell_type": "markdown",
   "id": "f992c9ab-a2b7-401a-8668-73567ae33101",
   "metadata": {},
   "source": [
    "You can also use `len`:"
   ]
  },
  {
   "cell_type": "code",
   "execution_count": null,
   "id": "45571df8-8e6c-4d32-aad3-fec8cec24b87",
   "metadata": {},
   "outputs": [],
   "source": [
    "len(B), len(B[0])"
   ]
  },
  {
   "cell_type": "markdown",
   "id": "c94dc171-9e53-4ceb-9d48-48b4648f9cf2",
   "metadata": {},
   "source": [
    "Please note that the arrays below have different shapes, even though in a sense they contain the same data:\n",
    "* vector of length 3, shape `(3,)`\n",
    "* matrix with three rows and one column, shape `(3, 1)`\n",
    "* matrix with one row and three columns, shape `(1, 3)`"
   ]
  },
  {
   "cell_type": "code",
   "execution_count": null,
   "id": "d17d79c2-26d5-4c05-845f-f507e6e7fb46",
   "metadata": {},
   "outputs": [],
   "source": [
    "A = np.array([1, 2, -3])\n",
    "print(A, A.shape)"
   ]
  },
  {
   "cell_type": "code",
   "execution_count": null,
   "id": "69b7d010-fe7d-47e3-95b9-70425f9da254",
   "metadata": {},
   "outputs": [],
   "source": [
    "Aprime = np.reshape(A, (3,1))\n",
    "print(Aprime, Aprime.shape)"
   ]
  },
  {
   "cell_type": "code",
   "execution_count": null,
   "id": "e625abc0-89c0-47c1-acc4-fcdc0cbabd60",
   "metadata": {},
   "outputs": [],
   "source": [
    "Abis = np.reshape(A, (1, 3))\n",
    "print(Abis, Abis.shape)"
   ]
  },
  {
   "cell_type": "markdown",
   "id": "53c823f9-d9f1-40b8-9b44-c75e86dc5485",
   "metadata": {},
   "source": [
    "## Other ways to create arrays"
   ]
  },
  {
   "cell_type": "markdown",
   "id": "b12a94ff-5d99-4633-a7ba-a521dea7965a",
   "metadata": {},
   "source": [
    "`np.zeros` initializes with zeros:"
   ]
  },
  {
   "cell_type": "code",
   "execution_count": null,
   "id": "69944a5b-b496-4a00-9537-8885d5636e7e",
   "metadata": {},
   "outputs": [],
   "source": [
    "print( np.zeros(5) )\n",
    "print( np.zeros((5,)) )\n",
    "print( np.zeros((3, 4), dtype=np.int64) )   # By default np.zeros has dtype=np.float64. You can change it by passing the argument `dtype=np.int64`."
   ]
  },
  {
   "cell_type": "markdown",
   "id": "5df5fdd9-aa9e-4baa-8b96-d20edad31e8e",
   "metadata": {},
   "source": [
    "`np.ones` is the same with ones"
   ]
  },
  {
   "cell_type": "code",
   "execution_count": null,
   "id": "467cc6dc-4f16-44d8-a02a-be272fd2ac8c",
   "metadata": {},
   "outputs": [],
   "source": [
    "np.ones((1, 3, 2))"
   ]
  },
  {
   "cell_type": "markdown",
   "id": "c9448894-daa5-4e70-931d-d09b93b26274",
   "metadata": {},
   "source": [
    "It can be very useful to create a new array **with the same shape as an existing array**. This is achieved by the functions `np.zeros_like` (filling the new arrays with zeros) and `np.ones_like`."
   ]
  },
  {
   "cell_type": "code",
   "execution_count": null,
   "id": "a804f423-e2e6-4daa-ad0f-b239336055b4",
   "metadata": {},
   "outputs": [],
   "source": [
    "A = np.array([[1,2,3],[4,5,6]])\n",
    "B = np.zeros_like(A)\n",
    "print(A)\n",
    "print(B)"
   ]
  },
  {
   "cell_type": "markdown",
   "id": "4ca8ecaf-a47f-4dfa-ac79-a44f0038892c",
   "metadata": {},
   "source": [
    "As you will realize later, `np.arange` and `np.linspace` are useful for plotting. `np.arange` is like `range` function, but it returns an array:"
   ]
  },
  {
   "cell_type": "code",
   "execution_count": null,
   "id": "1d0809d0-d6b3-4dae-bf05-e2804c874cc0",
   "metadata": {},
   "outputs": [],
   "source": [
    "print ( np.arange(10) )\n",
    "print ( np.arange(20, 11, -2) )"
   ]
  },
  {
   "cell_type": "markdown",
   "id": "27bca930-8ec4-4102-bfc9-c5c8357f5e96",
   "metadata": {},
   "source": [
    "`np.linspace(start, stop, num)` creates an array with `num` elements evenly spaced between `start` and `stop`."
   ]
  },
  {
   "cell_type": "code",
   "execution_count": null,
   "id": "fbcabf0e-afec-4a7a-9a61-7a93dfc87440",
   "metadata": {},
   "outputs": [],
   "source": [
    "C = np.linspace(-2.5, 4, 10)\n",
    "print( C )"
   ]
  },
  {
   "cell_type": "markdown",
   "id": "88f63a7c-1482-401c-b2cd-43153bf9345b",
   "metadata": {},
   "source": [
    "In other words, the `linspace` is an **arithmetic progression** with `num` terms between `start` and `stop`:"
   ]
  },
  {
   "cell_type": "code",
   "execution_count": null,
   "id": "771ab8fc-6284-4b72-b5f8-0cd187c7b466",
   "metadata": {},
   "outputs": [],
   "source": [
    "C[1]-C[0], C[2]-C[1], C[3]-C[2]"
   ]
  },
  {
   "cell_type": "markdown",
   "id": "2c7e4dbf-bf29-4ce2-94e3-2ee69a40eb6d",
   "metadata": {},
   "source": [
    "As we have seen, we can also create random arrays:"
   ]
  },
  {
   "cell_type": "code",
   "execution_count": null,
   "id": "2a75f649-0cdc-405d-ac48-ea0bcce9debc",
   "metadata": {},
   "outputs": [],
   "source": [
    "print ( np.random.uniform(0, 1, size=(3, 2)) )"
   ]
  },
  {
   "cell_type": "markdown",
   "id": "bf0504aa-2859-42bd-86fe-6cbcfb622036",
   "metadata": {},
   "source": [
    "There are many more functions in `np.random`, my favorite are `np.random.normal`, `np.random.choice` and `np.random.randint`. See the documentation for more."
   ]
  },
  {
   "cell_type": "markdown",
   "id": "a2ffa1af-e1a4-4cd4-bd37-cf63c1602aba",
   "metadata": {},
   "source": [
    "## Mathematical operations on arrays"
   ]
  },
  {
   "cell_type": "markdown",
   "id": "a12503c7-84cc-4a24-b2d2-c9b2b36e3611",
   "metadata": {},
   "source": [
    "Arrays implement mathematical operators and functions. The meaning is usually to perform the operation **elementwise** (separately for every element). For that the array shapes should be the same."
   ]
  },
  {
   "cell_type": "code",
   "execution_count": null,
   "id": "d3a4186a-2284-4366-ab6c-a913f89a4652",
   "metadata": {},
   "outputs": [],
   "source": [
    "A = np.random.normal(size=(2, 3))\n",
    "B = np.random.normal(size=(2, 3))\n",
    "print('A=\\n', A)\n",
    "print('B=\\n', B)\n",
    "print('A+B=\\n', A+B)\n",
    "print('A/B=\\n', A/B)\n",
    "print('sin(A)=\\n', np.sin(A) )\n",
    "print('abs(B)=\\n',  np.abs(B) )\n",
    "print('A<B=\\n', A < B )\n",
    "print('A**2=\\n', A**2 )\n",
    "print('maximum(A, B)=\\n', np.maximum(A, B) )"
   ]
  },
  {
   "cell_type": "code",
   "execution_count": null,
   "id": "d12c26f8-b7c7-4eeb-9404-cec63a845bb1",
   "metadata": {},
   "outputs": [],
   "source": [
    "C = np.random.normal(size=(2, 4))\n",
    "A+C"
   ]
  },
  {
   "cell_type": "markdown",
   "id": "4ac35247-c98e-41b5-80b2-fbf72611dddb",
   "metadata": {},
   "source": [
    "Sometimes Python will try to do the natural operation even if the array shapes are not the same. The most typical (and safest) of those cases are scalar-array operation (**scalar** is just a single number):"
   ]
  },
  {
   "cell_type": "code",
   "execution_count": null,
   "id": "242ba9bc-56c7-424e-9dbf-2cd0d2dc961d",
   "metadata": {},
   "outputs": [],
   "source": [
    "print('A=\\n', A)\n",
    "print('2*A=\\n', 2*A)\n",
    "print('A+2\\n', A+2)\n",
    "print('A*[1,2,3]=\\n', A*np.array([1, 2, 3]))"
   ]
  },
  {
   "cell_type": "markdown",
   "id": "e25b30a1-dd7a-4895-bf2b-62ed72d834da",
   "metadata": {},
   "source": [
    "Another important class of operations are those that **aggregate** multiple values into one, like sum, product, max etc."
   ]
  },
  {
   "cell_type": "code",
   "execution_count": null,
   "id": "72d52515-8900-40dc-a481-b8ab430038d4",
   "metadata": {},
   "outputs": [],
   "source": [
    "print('A=\\n', A)\n",
    "print('sum(A) =', np.sum(A))\n",
    "print('prod(A) =', np.prod(A))\n",
    "print('max(A) =', np.max(A))   # Note the difference between np.maximum and np.max\n",
    "print('min(A) =', np.min(A))"
   ]
  },
  {
   "cell_type": "markdown",
   "id": "c0862116-14c7-4d70-8ce3-7b476d26544d",
   "metadata": {},
   "source": [
    "These operations may be restricted to any subset of selected dimensions:"
   ]
  },
  {
   "cell_type": "code",
   "execution_count": null,
   "id": "e0c75a85-3d31-42ac-b1e6-095fbc727bf8",
   "metadata": {},
   "outputs": [],
   "source": [
    "print(A)\n",
    "print('Column sums =', np.sum(A, axis=0) )  # Dimension 0 (rows) will \"disappear\".\n",
    "print('Row sums =', np.sum(A, axis=1) )  # Dimension 1 (columns) will \"disappear\"."
   ]
  },
  {
   "cell_type": "code",
   "execution_count": null,
   "id": "bb089970-d09b-4b06-b42d-abccb8c061f1",
   "metadata": {},
   "outputs": [],
   "source": [
    "## C is a 3d tensor\n",
    "C = np.array([\n",
    "    [\n",
    "        [1, 2, 3, 4],\n",
    "        [5, 6, 7, 8],\n",
    "        [9, 10, 11, 12]\n",
    "    ],\n",
    "    [\n",
    "        [13,14,15,16],\n",
    "        [17,18,19,20],\n",
    "        [21,22,23,24]\n",
    "    ]\n",
    "])\n",
    "print( C.shape )\n",
    "print( np.max(C, axis=(0,2)) )"
   ]
  },
  {
   "cell_type": "markdown",
   "id": "46a1f585-4885-4283-9ab6-70d09a176d25",
   "metadata": {},
   "source": [
    "**Matrix multiplication** and **matrix-vector multiplication** are other important mathematical operations. These are implemented in the `np.dot` function or the `@` operator:"
   ]
  },
  {
   "cell_type": "code",
   "execution_count": null,
   "id": "efc89bb6-9b3f-4b0d-a25f-d80094889662",
   "metadata": {},
   "outputs": [],
   "source": [
    "A = np.random.randint(-3, 4, size=(2, 3))\n",
    "B = np.random.randint(-3, 4, size=(3, 5))\n",
    "v = np.random.randint(-3, 4, size=(3,))\n",
    "print('A\\n', A)\n",
    "print('B\\n', B)\n",
    "print('v\\n', v)\n",
    "print('AB\\n', np.dot(A, B))\n",
    "print('Av\\n', np.dot(A, v))\n",
    "print('v^T B\\n', np.dot(v.transpose(), B))\n",
    "print('v^T B\\n', np.dot(v, B))   # numpy tries to be intelligent and does not require a transpose\n",
    "\n",
    "print('With the operator:')\n",
    "print('AB\\n', A@B)\n",
    "print('Av\\n', A@v)"
   ]
  },
  {
   "cell_type": "markdown",
   "id": "715e4605-bfeb-4d2a-af13-d58315db4312",
   "metadata": {},
   "source": [
    "Module `np.linalg` contains useful linear algebraic functions, including vector and matrix norms, matrix rank, eigenvalues and eigenvectors, Cholesky decomposition, determinants. This is out of scope of this course, but see the documentation when needed."
   ]
  },
  {
   "cell_type": "markdown",
   "id": "74740807-cb5f-48e5-bfc8-d07740993630",
   "metadata": {},
   "source": [
    "## Indexing and slicing of arrays"
   ]
  },
  {
   "cell_type": "markdown",
   "id": "2820c75a-58a8-4c3e-88ab-8e35f81303e1",
   "metadata": {},
   "source": [
    "Indexing of arrays is with the `[]` operator like for lists. One important difference: For multidimensional arrays, we write only one `[]` and separate dimensions with commas. This allows for more flexible commands slicing selected dimensions."
   ]
  },
  {
   "cell_type": "code",
   "execution_count": null,
   "id": "5f7cd242-ada1-42f8-9418-499aef6368e9",
   "metadata": {},
   "outputs": [],
   "source": [
    "A = np.random.normal(size=(3, 3))\n",
    "A"
   ]
  },
  {
   "cell_type": "code",
   "execution_count": null,
   "id": "2260af27-9a51-43b6-9832-5428924a32a3",
   "metadata": {},
   "outputs": [],
   "source": [
    "A[0, 0]"
   ]
  },
  {
   "cell_type": "code",
   "execution_count": null,
   "id": "16086b1c-be2e-4bbd-a6a1-45ea1e0440a2",
   "metadata": {},
   "outputs": [],
   "source": [
    "A[0:2]"
   ]
  },
  {
   "cell_type": "code",
   "execution_count": null,
   "id": "be529693-bc30-4493-9c01-df46f6742400",
   "metadata": {},
   "outputs": [],
   "source": [
    "A[:,0:2]"
   ]
  },
  {
   "cell_type": "code",
   "execution_count": null,
   "id": "cb470518-d52a-49d7-a1fe-8daeb55d7787",
   "metadata": {},
   "outputs": [],
   "source": [
    "A[0:2,0:2]"
   ]
  },
  {
   "cell_type": "code",
   "execution_count": null,
   "id": "44ce42be-2975-42af-acd4-7d68bfa92602",
   "metadata": {},
   "outputs": [],
   "source": [
    "A[::-1,::-1]"
   ]
  },
  {
   "cell_type": "code",
   "execution_count": null,
   "id": "ba6cc0e2-51cc-4564-9526-0c93576b9b01",
   "metadata": {},
   "outputs": [],
   "source": [
    "A[0]"
   ]
  },
  {
   "cell_type": "code",
   "execution_count": null,
   "id": "ff0bf1c1-3321-4b6e-9f9e-0543b1bd5e78",
   "metadata": {},
   "outputs": [],
   "source": [
    "A[:,1]"
   ]
  },
  {
   "cell_type": "code",
   "execution_count": null,
   "id": "c9b95956-8de6-4146-b0b6-b6b509d9752d",
   "metadata": {},
   "outputs": [],
   "source": [
    "A.transpose()"
   ]
  },
  {
   "cell_type": "markdown",
   "id": "772541bb-3216-4339-86b1-2735e304e123",
   "metadata": {},
   "source": [
    "This works also for modifying elements and subarrays:"
   ]
  },
  {
   "cell_type": "code",
   "execution_count": null,
   "id": "b855013e-3b52-46ab-b39f-93f15145d7f7",
   "metadata": {},
   "outputs": [],
   "source": [
    "A"
   ]
  },
  {
   "cell_type": "code",
   "execution_count": null,
   "id": "5e9863bd-265d-435a-a2a7-7809a67f81af",
   "metadata": {},
   "outputs": [],
   "source": [
    "A[0,1]=0\n",
    "print(A)"
   ]
  },
  {
   "cell_type": "code",
   "execution_count": null,
   "id": "87e86016-018a-45f9-befc-7aba990cdc55",
   "metadata": {},
   "outputs": [],
   "source": [
    "A[-2:,1:] = np.zeros(shape=(2,2))\n",
    "print(A)"
   ]
  },
  {
   "cell_type": "code",
   "execution_count": null,
   "id": "516c88c3-c516-4732-82f8-c06349c8c12e",
   "metadata": {},
   "outputs": [],
   "source": [
    "A -= 1\n",
    "print(A)"
   ]
  },
  {
   "cell_type": "markdown",
   "id": "d50d9bc8-4d52-499b-b27c-fe8e9a291d3e",
   "metadata": {},
   "source": [
    "## Reshaping and concatenation of arrays"
   ]
  },
  {
   "cell_type": "markdown",
   "id": "ac57a973-1dcf-4824-bd39-5e83fe474426",
   "metadata": {},
   "source": [
    "`np.reshape` changes the shape of an array without changing the elements:"
   ]
  },
  {
   "cell_type": "code",
   "execution_count": null,
   "id": "af340b41-0476-424d-9193-f3c1ba0c1465",
   "metadata": {},
   "outputs": [],
   "source": [
    "C = np.array([\n",
    "    [\n",
    "        [1, 2, 3, 4],\n",
    "        [5, 6, 7, 8],\n",
    "        [9, 10, 11, 12]\n",
    "    ],\n",
    "    [\n",
    "        [13,14,15,16],\n",
    "        [17,18,19,20],\n",
    "        [21,22,23,24]\n",
    "    ]\n",
    "])\n",
    "print(C.shape)"
   ]
  },
  {
   "cell_type": "code",
   "execution_count": null,
   "id": "13bc8a9d-cefa-400d-bd49-45ab2ef69e53",
   "metadata": {},
   "outputs": [],
   "source": [
    "print(C)"
   ]
  },
  {
   "cell_type": "code",
   "execution_count": null,
   "id": "17fa5509-f93c-4661-8f19-bfd764e4e876",
   "metadata": {},
   "outputs": [],
   "source": [
    "np.reshape(C, (4, 6))"
   ]
  },
  {
   "cell_type": "code",
   "execution_count": null,
   "id": "31b6f63a-33db-465e-a93b-61f534e98383",
   "metadata": {},
   "outputs": [],
   "source": [
    "np.reshape(C, (4, 5))"
   ]
  },
  {
   "cell_type": "markdown",
   "id": "bd823e44-a1a4-4973-a786-1b6a78ef757a",
   "metadata": {},
   "source": [
    "`np.hstack` (horizontal stacking), `np.vstack` (vertical stacking) and `np.concatenate` can be used to connect two or more arrays into one:"
   ]
  },
  {
   "cell_type": "code",
   "execution_count": null,
   "id": "758c0418-b480-4b1f-a270-7334673bdaaf",
   "metadata": {},
   "outputs": [],
   "source": [
    "A = np.array([1, 2, 3])\n",
    "B = np.ones(3)\n",
    "C = np.random.normal(size=5)\n",
    "np.concatenate((A, B, C))  # Note concatenate is called on a _tuple_ of arrays"
   ]
  },
  {
   "cell_type": "code",
   "execution_count": null,
   "id": "66793578-109f-46d6-b854-f10c0baf7485",
   "metadata": {},
   "outputs": [],
   "source": [
    "A = np.array([1,2,3])\n",
    "B = np.array([[-1,-2,-3],[-3,-2,-1]])\n",
    "np.vstack([A,B])"
   ]
  },
  {
   "cell_type": "markdown",
   "id": "1f7865ce-d139-4234-b798-05a94083935c",
   "metadata": {},
   "source": [
    "## Vectorized functions using numpy"
   ]
  },
  {
   "cell_type": "markdown",
   "id": "582bd933-f13b-4714-87ad-42412f6420d2",
   "metadata": {},
   "source": [
    "Since `numpy` functions work on arrays, you can call them in your own functions, so that your own function can be called on arrays in a natural way:"
   ]
  },
  {
   "cell_type": "code",
   "execution_count": null,
   "id": "5bb51e12-4394-4625-8cf4-4929b96862cc",
   "metadata": {},
   "outputs": [],
   "source": [
    "def relu(A):\n",
    "    return np.maximum(A, 0)\n",
    "def sigmoid(A):\n",
    "    return 1.0 / (1+np.exp(-A))"
   ]
  },
  {
   "cell_type": "markdown",
   "id": "94cbe8d2-2800-40d5-a1a8-cb1845235689",
   "metadata": {},
   "source": [
    "## Plotting"
   ]
  },
  {
   "cell_type": "markdown",
   "id": "dd0d777f-fd72-4748-a8c2-9ae46a5e17b5",
   "metadata": {},
   "source": [
    "To plot a function, you need two arrays `x,y` which contain computed inputs and outputs. For each index `i`, the point `(x[i],y[i])` is plotted."
   ]
  },
  {
   "cell_type": "code",
   "execution_count": null,
   "id": "0193c717-6bad-491a-8658-7287dd74fb5e",
   "metadata": {},
   "outputs": [],
   "source": [
    "X = np.linspace(-5, 5, 20)\n",
    "Y_relu = relu(X)"
   ]
  },
  {
   "cell_type": "code",
   "execution_count": null,
   "id": "99a353f5-0df1-4464-98d8-c68af0fa3f7c",
   "metadata": {},
   "outputs": [],
   "source": [
    "print(X)\n",
    "print(Y_relu)"
   ]
  },
  {
   "cell_type": "code",
   "execution_count": null,
   "id": "40d44747-27e1-4843-a829-8ca876cfbb50",
   "metadata": {},
   "outputs": [],
   "source": [
    "plt.plot(X, Y_relu)"
   ]
  },
  {
   "cell_type": "code",
   "execution_count": null,
   "id": "b5b4cff7-4205-4aaf-942b-c89098629b64",
   "metadata": {},
   "outputs": [],
   "source": [
    "plt.plot(X, Y_relu, 'o')"
   ]
  },
  {
   "cell_type": "markdown",
   "id": "09535920-b26b-430e-8737-445600aed2ec",
   "metadata": {},
   "source": [
    "You can put multiple plots in one graph:"
   ]
  },
  {
   "cell_type": "code",
   "execution_count": null,
   "id": "2eb88254-b753-4afa-a9f4-1e68406f77b0",
   "metadata": {},
   "outputs": [],
   "source": [
    "Y_sigmoid = sigmoid(X)\n",
    "Y_tanh = np.tanh(X)\n",
    "plt.plot(X, Y_relu)\n",
    "plt.plot(X, Y_sigmoid)\n",
    "plt.plot(X, Y_tanh)\n",
    "plt.plot(X, 2*X**2)"
   ]
  },
  {
   "cell_type": "markdown",
   "id": "04125aa3-8e56-4772-bf90-82b478cbf3b5",
   "metadata": {},
   "source": [
    "Let's make the plot nicer:"
   ]
  },
  {
   "cell_type": "code",
   "execution_count": null,
   "id": "1bf00b06-9d4a-41c0-9e55-6ab799abcadc",
   "metadata": {},
   "outputs": [],
   "source": [
    "plt.plot(X, Y_relu, '--', label='ReLU', color='red')\n",
    "plt.plot(X, Y_sigmoid, label='sigmoid=$\\\\frac{1}{1+\\\\exp(-x)}$')\n",
    "plt.plot(X, Y_tanh, label='tanh', color='green')\n",
    "plt.legend()   ## This allows displaying a legend.\n",
    "\n",
    "plt.ylim(-1, 2)   # Y axis is from -1 to 2.\n",
    "plt.title('Common activation functions')\n",
    "plt.xlabel('x')\n",
    "plt.ylabel('$\\\\sigma(x)$')"
   ]
  },
  {
   "cell_type": "markdown",
   "id": "55426ec3-2635-46b0-a801-d1dbb074911b",
   "metadata": {},
   "source": [
    "Note that we can even use LaTeX inside the matplotlib labels. However, you have to be careful with special characters. As `\\` is the string escape character, you need to write `\\\\` to include backslash in a Python string:"
   ]
  },
  {
   "cell_type": "code",
   "execution_count": null,
   "id": "8f9e830f-0e0c-45d0-8bda-40b9424369a9",
   "metadata": {},
   "outputs": [],
   "source": [
    "s = '$\\\\sigma(x)$'\n",
    "print(s)\n",
    "print(s[0])\n",
    "print(s[1])\n",
    "print(s[2])"
   ]
  },
  {
   "cell_type": "markdown",
   "id": "d5a5047b-fd59-48b5-a37d-40c9deef0516",
   "metadata": {},
   "source": [
    "There are many possible plotting customizations, look into Python AIMS notes and Python documentations for other possibilities."
   ]
  },
  {
   "cell_type": "markdown",
   "id": "16975b7a-fdca-47db-82e4-883a3ed2410d",
   "metadata": {},
   "source": [
    "## A scatter plot"
   ]
  },
  {
   "cell_type": "code",
   "execution_count": null,
   "id": "cee1b4fa-6d16-470a-b233-0222d34dec3f",
   "metadata": {},
   "outputs": [],
   "source": [
    "X1 = np.random.uniform(-2, 2, 50)\n",
    "Y1 = X1+2+np.random.normal(scale=0.1, size=X1.size)\n",
    "X2 = np.random.uniform(-2, 2, 50)\n",
    "Y2 = -X2-0.1+np.random.normal(scale=0.3, size=X2.size)\n",
    "plt.plot(X1, Y1, 'o')\n",
    "plt.plot(X2, Y2, 'o')"
   ]
  },
  {
   "cell_type": "markdown",
   "id": "d73b2748-49dc-484c-a21b-6334433cbbdf",
   "metadata": {},
   "source": [
    "You can achieve the same effect using a dedicated function `plt.scatter`."
   ]
  },
  {
   "cell_type": "code",
   "execution_count": null,
   "id": "bf4ca371-e373-47e0-9f57-e8e2df0b8fce",
   "metadata": {},
   "outputs": [],
   "source": [
    "plt.scatter(X1, Y1)\n",
    "plt.scatter(X2, Y2)"
   ]
  },
  {
   "cell_type": "markdown",
   "id": "44fda26d-9e87-4c58-a8a4-5121e88f8968",
   "metadata": {},
   "source": [
    "## Histogram"
   ]
  },
  {
   "cell_type": "code",
   "execution_count": null,
   "id": "aebd703d-c56b-41b6-ad8f-c4c13c68c3c9",
   "metadata": {},
   "outputs": [],
   "source": [
    "L = [16.5, 8.0, 18.5, 13.5, 15.0, 10.0, 22.0, 14.5, 17.5, 15.5, 19.5, 11.5, 9.5, 8.0, 8.0, 9.0, 9.5, 13.0, 12.5, 18.5, 7.5, 11.0, 11.0, 10.5, 15.0, 15.0, 17.0, 12.0, 5.0, 15.0, 11.5, 10.0, 11.5, 15.5]"
   ]
  },
  {
   "cell_type": "code",
   "execution_count": null,
   "id": "80f67598-0125-4394-bdab-580f7c2fa00a",
   "metadata": {},
   "outputs": [],
   "source": [
    "plt.hist(L)"
   ]
  },
  {
   "cell_type": "markdown",
   "id": "38cbb989-6d26-4ca3-9579-055bd44ce00f",
   "metadata": {},
   "source": [
    "The argument `bins` allows to change the number of bins (intervals) in the histogram."
   ]
  },
  {
   "cell_type": "code",
   "execution_count": null,
   "id": "2e9ca104-f172-49c5-9c40-3e3afcc0a016",
   "metadata": {},
   "outputs": [],
   "source": [
    "plt.hist(L, bins=30)"
   ]
  },
  {
   "cell_type": "markdown",
   "id": "8b63bed3-9755-42d1-ae7d-17431ef7102f",
   "metadata": {},
   "source": [
    "## 3D plotting"
   ]
  },
  {
   "cell_type": "code",
   "execution_count": null,
   "id": "0fb5f8bb-4647-4133-b391-c42af3b2f251",
   "metadata": {},
   "outputs": [],
   "source": [
    "x = np.random.uniform(-2, 2, size=200)\n",
    "y = np.random.uniform(-2, 2, size=200)\n",
    "z = x**2+y**2\n",
    "\n",
    "ax = plt.axes(projection='3d')\n",
    "ax.plot3D(x, y, z, 'o')"
   ]
  },
  {
   "cell_type": "code",
   "execution_count": null,
   "id": "38234788-9008-4a5d-a8e6-64e33c0114be",
   "metadata": {},
   "outputs": [],
   "source": [
    "# This will print the line (sin(z), cos(z), z)\n",
    "z = np.linspace(0, 15, 1000)\n",
    "x = np.sin(z)\n",
    "y = np.cos(z)\n",
    "\n",
    "ax = plt.axes(projection='3d')\n",
    "ax.plot3D(x, y, z, color='green')"
   ]
  },
  {
   "cell_type": "markdown",
   "id": "82a9446d-ef93-4ef5-bff4-709a86b884ee",
   "metadata": {},
   "source": [
    "## Subplots"
   ]
  },
  {
   "cell_type": "markdown",
   "id": "c49fe339-7f53-4783-bb47-b61246e8462d",
   "metadata": {},
   "source": [
    "You can divide one plot into many figures using ``plt.subplot`` function. This is useful e.g., for generating figures to be included in PDFs."
   ]
  },
  {
   "cell_type": "code",
   "execution_count": null,
   "id": "550e1075-c758-42a2-8e34-4ec2ec55fe0e",
   "metadata": {},
   "outputs": [],
   "source": [
    "fig = plt.figure(figsize=(12, 5))  # This changes the size of the large plot.\n",
    "\n",
    "plt.subplot(1, 2, 1)   # The large plot has 1 row and 2 columns. Now we are working on the first plot.\n",
    "plt.ylabel('ReLU(x)')\n",
    "plt.plot(X, Y_relu, 'o', color='green')\n",
    "\n",
    "plt.subplot(1, 2, 2) # Switch to the second plot.\n",
    "plt.ylabel('tanh(x)')\n",
    "plt.plot(X, Y_tanh, '--', color='red')"
   ]
  },
  {
   "cell_type": "markdown",
   "id": "186919e1-605d-422a-8eb4-a392c752e3cd",
   "metadata": {},
   "source": [
    "## Saving a figure to a file"
   ]
  },
  {
   "cell_type": "markdown",
   "id": "0ca1293b-9858-4e23-b659-acf1cbb43dd5",
   "metadata": {},
   "source": [
    "After you generate a nice plot, you can save it to a file. Then, you can use the saved figure, for example including it in LaTeX documents."
   ]
  },
  {
   "cell_type": "code",
   "execution_count": null,
   "id": "66650a88-eef5-498e-a80f-99706888032a",
   "metadata": {},
   "outputs": [],
   "source": [
    "fig = plt.figure(figsize=(12, 5))  # This changes the size of the large plot.\n",
    "\n",
    "plt.subplot(1, 2, 1)   # The large plot has 1 row and 2 columns. Now we are working on the first plot.\n",
    "plt.ylabel('ReLU(x)')\n",
    "plt.plot(X, Y_relu, 'o', color='green', label='ReLU')\n",
    "plt.legend()\n",
    "\n",
    "plt.subplot(1, 2, 2) # Switch to the second plot.\n",
    "plt.ylabel('tanh(x)')\n",
    "plt.plot(X, Y_tanh, '--', color='red', label='tanh')\n",
    "\n",
    "plt.savefig('activations.png')"
   ]
  },
  {
   "cell_type": "markdown",
   "id": "b1c38e0c-1818-4683-8d02-7d3d788a1a45",
   "metadata": {},
   "source": [
    "## Assignment 2 correction: Faster factorial"
   ]
  },
  {
   "cell_type": "markdown",
   "id": "346f1773-5cea-4fab-8329-268641a1c41e",
   "metadata": {},
   "source": [
    "Consider the `factorial(n)` function from Problem 2. This function might become slower when `n` is large:"
   ]
  },
  {
   "cell_type": "code",
   "execution_count": null,
   "id": "28c2951b-000e-474f-b023-0cb5b2e47539",
   "metadata": {},
   "outputs": [],
   "source": [
    "# Note that for large n it is preferable to write iteration instead of recursion.\n",
    "def factorial(n):\n",
    "    res = 1\n",
    "    for i in range(2, n+1):\n",
    "        res *= i\n",
    "    return res"
   ]
  },
  {
   "cell_type": "code",
   "execution_count": null,
   "id": "234e2643-a254-49ec-969f-7b5f190433d2",
   "metadata": {},
   "outputs": [],
   "source": [
    "%%time\n",
    "x = factorial(10**5)\n",
    "# This takes 4 seconds on my machine.\n",
    "# Do not print any of the numbers computed in this exercise. They are very large and printing them will crash Python."
   ]
  },
  {
   "cell_type": "markdown",
   "id": "c56fe0dc-34da-40d0-a5ac-6c4bc68cfa67",
   "metadata": {},
   "source": [
    "Use Python dictionaries so that:\n",
    "* Every time the function is called on an input, it memorizes the output in the dictionary.\n",
    "* If the function is called for the second time on the same input, it looks up the answer in the dictionary instead of computing it from the beginning.\n",
    "This technique is called **memoization**.\n",
    "\n",
    "**Hint** Despite my previous advice, in this problem it is useful to use a global variable. Also look up the dictionary method `dict.get`."
   ]
  },
  {
   "cell_type": "code",
   "execution_count": null,
   "id": "3c9077a2-7a3b-486d-8b3c-726606ea405b",
   "metadata": {},
   "outputs": [],
   "source": [
    "dict.get?"
   ]
  },
  {
   "cell_type": "code",
   "execution_count": null,
   "id": "3234066c-a224-42d3-8574-1156403b6265",
   "metadata": {},
   "outputs": [],
   "source": []
  },
  {
   "cell_type": "code",
   "execution_count": null,
   "id": "0d545734-71b0-455a-8dc4-f437c3fa45f8",
   "metadata": {},
   "outputs": [],
   "source": [
    "D = {}\n",
    "def factorial_memoized(n):\n",
    "    res = D.get(n)         # Check if n is in the dictionary.\n",
    "    if res == None:           # If not\n",
    "        res = factorial(n)    # 1) Compute the factorial.\n",
    "        D[n] = res            # 2) Put the result in the dictionary.\n",
    "        return res            # 3) Return the result\n",
    "    else:\n",
    "        return res            # Otherwise return immediately."
   ]
  },
  {
   "cell_type": "markdown",
   "id": "da3a44f8-998e-4a90-aa8b-47c9892c198d",
   "metadata": {},
   "source": [
    "Compare the times on the following code:"
   ]
  },
  {
   "cell_type": "code",
   "execution_count": null,
   "id": "450b9ecc-d014-4b4b-a4a6-46a6905fa04b",
   "metadata": {},
   "outputs": [],
   "source": [
    "n = 10**5+1\n",
    "x = factorial(n)"
   ]
  },
  {
   "cell_type": "code",
   "execution_count": null,
   "id": "34414f53-4286-4935-9f1d-651d925ef951",
   "metadata": {},
   "outputs": [],
   "source": [
    "%%time\n",
    "for i in range(5):\n",
    "    y = factorial(n)"
   ]
  },
  {
   "cell_type": "code",
   "execution_count": null,
   "id": "a84a0862-c03e-4035-bb11-3f76f5f3c71a",
   "metadata": {},
   "outputs": [],
   "source": [
    "%%time\n",
    "for i in range(5):\n",
    "    y = factorial_memoized(n)\n",
    "    if x != y:\n",
    "        print('WRONG ANSWER')\n",
    "        break"
   ]
  },
  {
   "cell_type": "code",
   "execution_count": null,
   "id": "89215851-42fe-40a0-9ecc-ba53db425095",
   "metadata": {},
   "outputs": [],
   "source": [
    "for key in D.keys(): print(key)"
   ]
  },
  {
   "cell_type": "markdown",
   "id": "77e42a17-8168-4696-b2b3-dc4270c34918",
   "metadata": {},
   "source": [
    "The second code should run at least 5 times faster than the first one."
   ]
  },
  {
   "cell_type": "markdown",
   "id": "7ccf1e5d-8ecd-4c2f-8c5c-b608d35bc0c0",
   "metadata": {},
   "source": [
    "**Bonus** Try to improve so that the function runs faster not only if given exactly the same input, but also if it is given a different input which is close to another input which was already computed."
   ]
  },
  {
   "cell_type": "code",
   "execution_count": null,
   "id": "ba9d935c-5bf9-4e48-98f0-3e9368675269",
   "metadata": {},
   "outputs": [],
   "source": [
    "D = {0:1}  # 0! = 1\n",
    "           # What would happen if we initialize the dictionary as empty?\n",
    "\n",
    "def factorial_improved(n):\n",
    "    largest = 0  # In this variable we will compute \n",
    "                 # the largest key in the dictionary which is less equal than n\n",
    "    for k in D.keys():\n",
    "        if k <= n and k > largest:\n",
    "            largest = k\n",
    "\n",
    "    res = D[largest]                  # We can start from largest rather than from 1\n",
    "    for i in range(largest+1, n+1):\n",
    "        res *= i\n",
    "    D[n] = res\n",
    "    return res"
   ]
  },
  {
   "cell_type": "markdown",
   "id": "240d6c95-da8c-4430-a3f9-aa58dfb8a5a0",
   "metadata": {},
   "source": [
    "Test using the following code. The cell with `%%time` should take around the same time as one call to `factorial(n)`."
   ]
  },
  {
   "cell_type": "code",
   "execution_count": null,
   "id": "f9199659-20af-4b4b-87b8-031ab91bedb2",
   "metadata": {},
   "outputs": [],
   "source": [
    "n = 10**5+2\n",
    "L = []\n",
    "L.append(factorial(n))\n",
    "for k in range(99):\n",
    "    L.append( L[-1]*(n+k+1) )"
   ]
  },
  {
   "cell_type": "code",
   "execution_count": null,
   "id": "be0998dd-f4fe-4bf3-888e-f426be2000ab",
   "metadata": {
    "scrolled": true
   },
   "outputs": [],
   "source": [
    "%%time\n",
    "for k in range(n, n+100):\n",
    "    x = factorial_improved(k)\n",
    "    if x != L[k-n]:\n",
    "        print('WRONG ANSWER')\n",
    "        break"
   ]
  },
  {
   "cell_type": "markdown",
   "id": "3d44cd8d-861c-4ab0-8cbf-00501c8dcbc7",
   "metadata": {},
   "source": [
    "The exercise has multiple correct solutions. Another good approach:"
   ]
  },
  {
   "cell_type": "code",
   "execution_count": null,
   "id": "658e416e-6336-4da7-bd7f-51bb3bba86d5",
   "metadata": {},
   "outputs": [],
   "source": [
    "maximum_computed = 0   # Maximum n for which we have the factorial.\n",
    "D = {0:1}              # D stores all factorials from 0 to maximum_computed.\n",
    "def factorial_improved_all(n):\n",
    "    if n <= maximum_computed:\n",
    "        return D[n]\n",
    "    else:\n",
    "        res = D[maximum_computed]\n",
    "        for i in range(maximum_computed+1, n+1):\n",
    "            res *= i\n",
    "            D[i] = res\n",
    "        return res"
   ]
  },
  {
   "cell_type": "markdown",
   "id": "3091ae7c-cfb2-4211-9c00-4dcd324df8bf",
   "metadata": {},
   "source": [
    "Compare `factorial_improved` with `factorial_improved_all`. What are their advantages and disadvantages? "
   ]
  },
  {
   "cell_type": "markdown",
   "id": "aafd0a35-4e6a-4c39-87be-20d354824b08",
   "metadata": {},
   "source": [
    "## Exercise: Plot running times"
   ]
  },
  {
   "cell_type": "markdown",
   "id": "70afe517-0ef2-42e3-94b8-0173541670d6",
   "metadata": {},
   "source": [
    "In lecture 4 you were given solutions to the maximum subproduct problem that run in times $O(n^3)$, $O(n^2)$ and $O(n)$.\n",
    "1) For each value of $n$ given by `n in range(10, 400, 10)`, generate a random array of $n$ positive numbers (for example, take the absolute value of Gaussian random numbers).\n",
    "2) Run each of the three algorithms on every of those arrays. Record your running times. You can use the function below to obtain the running time as a Python object."
   ]
  },
  {
   "cell_type": "code",
   "execution_count": null,
   "id": "331ba818-7b8e-4df5-925f-a25705872286",
   "metadata": {},
   "outputs": [],
   "source": [
    "import time\n",
    "# Calls f(x) and returns the total running time in seconds \n",
    "# as a floating point number.\n",
    "def running_time(f, x):\n",
    "    start = time.time()\n",
    "    ret = f(x)\n",
    "    end = time.time()\n",
    "    return end-start"
   ]
  },
  {
   "cell_type": "code",
   "execution_count": null,
   "id": "a6b5d0fa-c73e-4b21-b93a-e4c074da6ec4",
   "metadata": {},
   "outputs": [],
   "source": [
    "import numpy as np"
   ]
  },
  {
   "cell_type": "code",
   "execution_count": null,
   "id": "92051aa2-aa8d-4016-892b-62ded9864107",
   "metadata": {},
   "outputs": [],
   "source": [
    "# This is an optimized solution with running time O(n^2).\n",
    "def smallest_subproduct_n2(A):\n",
    "    best_product = np.inf\n",
    "    best_i = -1\n",
    "    best_j = -1\n",
    "    n = len(A)\n",
    "    for i in range(n):\n",
    "        prod = 1\n",
    "        for j in range(i, n): \n",
    "            prod *= A[j]\n",
    "            if prod < best_product:\n",
    "                best_product = prod\n",
    "                best_i = i\n",
    "                best_j = j\n",
    "    return (best_i, best_j, best_product)"
   ]
  },
  {
   "cell_type": "code",
   "execution_count": null,
   "id": "ff658a2c-3de5-4520-9c6b-385e737eeb31",
   "metadata": {},
   "outputs": [],
   "source": [
    "# This algorithm is correct only if A[i] > 0 for every i.\n",
    "# Its time complexity is O(n).\n",
    "def smallest_subproduct_n(A):\n",
    "    n = len(A)\n",
    "    B = [A[0]]\n",
    "    for i in range(1, n):\n",
    "        B.append(min(B[i-1]*A[i], A[i]))\n",
    "    return min(B)\n",
    "\n",
    "# How to modify this algorithm so that it also returns (i, j, product) triple?\n",
    "# Hint: Given i > 0, let C[i] be an index such that P( C[i], i ) = B[i].\n",
    "# Find a way to compute B[i] and C[i] together, in total time O(n). \n",
    "# Then use variables best_i, best_j, best_product as before. "
   ]
  },
  {
   "cell_type": "code",
   "execution_count": null,
   "id": "3f9b6eda-4855-4985-8b3c-06a66d91de10",
   "metadata": {},
   "outputs": [],
   "source": [
    "# This solution has running time O(n^3).\n",
    "def smallest_subproduct_n3(A):\n",
    "    best_product = np.inf\n",
    "    best_i = -1\n",
    "    best_j = -1\n",
    "    n = len(A)\n",
    "    for i in range(n):\n",
    "        for j in range(i, n):\n",
    "            prod = 1\n",
    "            for k in range(i, j+1):\n",
    "                prod *= A[k]\n",
    "            if prod < best_product:\n",
    "                best_product = prod\n",
    "                best_i = i\n",
    "                best_j = j\n",
    "    return (best_i, best_j, best_product)"
   ]
  },
  {
   "cell_type": "code",
   "execution_count": null,
   "id": "f2a50c36-0b41-42d7-b67f-be04b8b3cfc4",
   "metadata": {},
   "outputs": [],
   "source": [
    "# The code below first generates all inputs and then runs\n",
    "# the functions on them. This might waste memory usage\n",
    "# if inputs are large.\n",
    "\n",
    "# n_list = []\n",
    "# INPUTS = []\n",
    "# for n in range(10, 400, 10):\n",
    "#     A = np.abs(np.random.normal(size=n))\n",
    "#     INPUTS.append(A)\n",
    "#     n_list.append(n)\n",
    "\n",
    "# sub_list_n = []\n",
    "# sub_list_n2 = []\n",
    "# sub_list_n3 = []\n",
    "# for A in INPUTS:\n",
    "#     sub_list_n.append( running_time(smallest_subproduct_n, A) )\n",
    "#     sub_list_n2.append( running_time(smallest_subproduct_n2, A) )\n",
    "#     sub_list_n3.append( running_time(smallest_subproduct_n3, A) )"
   ]
  },
  {
   "cell_type": "code",
   "execution_count": null,
   "id": "b5c0c475-994d-4a40-8a28-53c0df030295",
   "metadata": {},
   "outputs": [],
   "source": [
    "# In this code we do not store input arrays after the loop\n",
    "# iteration is finished.\n",
    "\n",
    "n_list = []\n",
    "sub_list_n = []\n",
    "sub_list_n2 = []\n",
    "sub_list_n3 = []\n",
    "\n",
    "for n in range(10, 400, 10):\n",
    "    # Generate a random array of length n.\n",
    "    A = np.abs(np.random.normal(size=n))\n",
    "    n_list.append(n)\n",
    "\n",
    "    # Run the functions on that array and measure the time.\n",
    "    # The commented code at the bottom has the same meaning\n",
    "    # as the code below.\n",
    "    for L, f in [ \n",
    "        (sub_list_n, smallest_subproduct_n),\n",
    "        (sub_list_n2, smallest_subproduct_n2),\n",
    "        (sub_list_n3, smallest_subproduct_n3)\n",
    "    ]:\n",
    "        L.append( running_time(f, A) )\n",
    "    \n",
    "    #sub_list_n.append( running_time(smallest_subproduct_n, A) )\n",
    "    #sub_list_n2.append( running_time(smallest_subproduct_n2, A) )\n",
    "    #sub_list_n3.append( running_time(smallest_subproduct_n3, A) )"
   ]
  },
  {
   "cell_type": "code",
   "execution_count": null,
   "id": "e753c7a8-54d6-4d31-b789-b649b8115970",
   "metadata": {
    "scrolled": true
   },
   "outputs": [],
   "source": [
    "# Quick check if the arrays look correct.\n",
    "# You can do this for a smaller range initially.\n",
    "print(n_list)\n",
    "print(sub_list_n)\n",
    "print(sub_list_n2)\n",
    "print(sub_list_n3)"
   ]
  },
  {
   "cell_type": "markdown",
   "id": "d50c73f6-a310-44f7-b1d9-7bc063a06f39",
   "metadata": {},
   "source": [
    "3. Plot running times of all three algorithms as a function of $n$. Try to make the plots visually nice."
   ]
  },
  {
   "cell_type": "code",
   "execution_count": null,
   "id": "fa5cc554-b769-49f3-b509-db1189cd77ff",
   "metadata": {},
   "outputs": [],
   "source": [
    "import matplotlib.pyplot as plt\n",
    "plt.plot(n_list, sub_list_n, label='$O(n)$')\n",
    "plt.plot(n_list, sub_list_n2, label='$O(n^2)$')\n",
    "plt.plot(n_list, sub_list_n3, label='$O(n^3)$')\n",
    "plt.ylim(0, 0.01) # Change the y axis scale to see the difference of O(n) and O(n^2).\n",
    "plt.legend()"
   ]
  },
  {
   "cell_type": "markdown",
   "id": "dc5c95a0-4a04-4315-b682-7100d198b64d",
   "metadata": {},
   "source": [
    "## Exercise 2: Binary search for finding a function inverse"
   ]
  },
  {
   "cell_type": "markdown",
   "id": "1e83e336-930e-409f-9abc-4f79771d2853",
   "metadata": {},
   "source": [
    "Let $0\\le p\\le 1$. Consider the function $h(p):=p\\log_2\\frac{1}{p}+(1-p)\\log_2\\frac{1}{1-p}$ (and extend by continuity $h(0)=h(1)=0$). This is called the **binary entropy function**.\n",
    "1. Use numpy and matplotlib to plot the function."
   ]
  },
  {
   "cell_type": "code",
   "execution_count": null,
   "id": "db4c4954-4d23-4d11-8f47-6f4d6b9e24c4",
   "metadata": {},
   "outputs": [],
   "source": [
    "def h(p):\n",
    "    return p*np.log2(1/p)+(1-p)*np.log2(1/(1-p))"
   ]
  },
  {
   "cell_type": "markdown",
   "id": "021789eb-87da-4b8e-b029-54bd5ac97582",
   "metadata": {},
   "source": [
    "This function works except for values of $p=0$ and $p=1$ where it crashes (if $p$ is a scalar) or gives the `nan` (not a number value) for relevant positions in the array:"
   ]
  },
  {
   "cell_type": "code",
   "execution_count": null,
   "id": "b404bec8-b7ee-40ce-8abf-f465ea868a7d",
   "metadata": {},
   "outputs": [],
   "source": [
    "h(0.0)"
   ]
  },
  {
   "cell_type": "code",
   "execution_count": null,
   "id": "fa06d00a-e996-4a19-a75b-3fdb18dd6ce7",
   "metadata": {},
   "outputs": [],
   "source": [
    "h(np.array([0.0, 0.5, 1.0]))"
   ]
  },
  {
   "cell_type": "code",
   "execution_count": null,
   "id": "3faa0b09-bed9-4595-b1f9-f22a14af19c1",
   "metadata": {},
   "outputs": [],
   "source": [
    "def h(p):\n",
    "    if type(p) != np.ndarray and (p == 1 or p == 0):\n",
    "        return 0\n",
    "    res = p*np.log2(1/p)+(1-p)*np.log2(1/(1-p))\n",
    "    return np.nan_to_num(res, nan=0)"
   ]
  },
  {
   "cell_type": "markdown",
   "id": "a8185198-afa5-4d31-8aed-dd8db20e6efa",
   "metadata": {},
   "source": [
    "This solution gives a correct function for `p` being a scalar. But it does not work anymore if `p` is an array."
   ]
  },
  {
   "cell_type": "code",
   "execution_count": null,
   "id": "8276e18c-a501-4e46-ad9f-4d6591f7dc40",
   "metadata": {},
   "outputs": [],
   "source": [
    "h(0)"
   ]
  },
  {
   "cell_type": "code",
   "execution_count": null,
   "id": "1483db4c-6852-449b-bc30-9e862c902681",
   "metadata": {},
   "outputs": [],
   "source": [
    "h(np.array([0.0, 0.5, 1.]))"
   ]
  },
  {
   "cell_type": "code",
   "execution_count": null,
   "id": "46bc01d1-026a-4123-aaee-bb6d0ace1955",
   "metadata": {
    "scrolled": true
   },
   "outputs": [],
   "source": [
    "P = np.linspace(0, 0.5, 200)\n",
    "plt.plot(P, h(P))\n",
    "plt.plot(P, [0.5]*len(P))"
   ]
  },
  {
   "cell_type": "markdown",
   "id": "fd372d59-dd6d-4660-b642-c88b5d1607ed",
   "metadata": {},
   "source": [
    "2. Write a function `h_inverse(y, prec)`, which, given $0\\le y\\le 1$, returns the unique $0\\le p\\le 1/2$ such that $h(p)=y$. As the floating-point numbers have limited precision, it is not possible in general to satisfy $h(p)=y$ exactly. Instead, output any number $p$ such that $|h(p)-y|\\le\\mathrm{prec}$, where $\\mathrm{prec}>0$ (precision) is the second argument of the function."
   ]
  },
  {
   "cell_type": "code",
   "execution_count": null,
   "id": "ec8cdcc6-6f2b-4e4e-9767-aff7608ec974",
   "metadata": {},
   "outputs": [],
   "source": [
    "def h_inverse(y, prec):\n",
    "    left = 0\n",
    "    right = 0.5\n",
    "    p = 0.25\n",
    "    while abs(h(p)-y) > prec:\n",
    "        if h(p) > y:\n",
    "            right = p\n",
    "        else:\n",
    "            left = p\n",
    "        p = 0.5*(left+right)\n",
    "    return p\n",
    "        "
   ]
  },
  {
   "cell_type": "code",
   "execution_count": null,
   "id": "b1a47f67-2852-4985-af78-7ec18a9416cc",
   "metadata": {},
   "outputs": [],
   "source": [
    "p = h_inverse(0.5, 1e-9)\n",
    "print(p)\n",
    "print(abs(h(p)-0.5))\n",
    "\n",
    "print(h(p) == 0.5)   # This is important!"
   ]
  },
  {
   "cell_type": "markdown",
   "id": "f4a36fd2-4642-4f0b-b6db-dbd32c0264c4",
   "metadata": {},
   "source": [
    "As we have seen on the whiteboard during the lecture, this method is called **binary search** and it can be used to quickly search monotone or sorted data.\n",
    "In general this method is dramatically faster than linear search.\n",
    "\n",
    "As we are computing a mathematical function, the time complexity here is not the easiest to analyze.\n",
    "For searching an array of length $n$, the binary search has time complexity\n",
    "$O(\\log n)$ in contrast to linear search with time complexity $O(n)$."
   ]
  },
  {
   "cell_type": "markdown",
   "id": "42449d7f-1ea5-4d0d-8945-e2a45127dec2",
   "metadata": {},
   "source": [
    "## Bonus: Floating-point numbers: Order of operations can matter"
   ]
  },
  {
   "cell_type": "code",
   "execution_count": null,
   "id": "ebc2df45-acec-4931-851f-1dcbaf738aa7",
   "metadata": {},
   "outputs": [],
   "source": [
    "L = []\n",
    "for i in range(-10, 10):\n",
    "    for k in range(50):\n",
    "        L.append(10.0**i)"
   ]
  },
  {
   "cell_type": "code",
   "execution_count": null,
   "id": "c85b3ebc-16d4-4896-a60e-91beac5a1183",
   "metadata": {},
   "outputs": [],
   "source": [
    "s = 0\n",
    "n = len(L)\n",
    "for i in range(n):\n",
    "    s += L[i]\n",
    "print(s)"
   ]
  },
  {
   "cell_type": "code",
   "execution_count": null,
   "id": "f2ec0a8c-5087-41f6-ad73-05c36d3441ce",
   "metadata": {},
   "outputs": [],
   "source": [
    "s = 0\n",
    "n = len(L)\n",
    "for i in range(n):\n",
    "    s += L[-i+1]\n",
    "print(s)"
   ]
  },
  {
   "cell_type": "markdown",
   "id": "16ea2c2a-d5dd-4b23-87c2-f0161f7af2c0",
   "metadata": {},
   "source": [
    "The first result is more precise. When adding many floating-point numbers, it might be more precise to add them in the order of increasing absolute value. There are other subtle points about limited precision and numerical stability. It is a whole field of study that we do not have time to address in this course."
   ]
  },
  {
   "cell_type": "markdown",
   "id": "cb9ee490-e5e1-4c90-af5f-bbda7fc5e647",
   "metadata": {},
   "source": [
    "## Exercise 3: Merging sorted lists"
   ]
  },
  {
   "cell_type": "markdown",
   "id": "1ba34cec-e410-4d80-880f-89649fbf5865",
   "metadata": {},
   "source": [
    "Write a function that takes as input two sorted lists of numbers `L1` and `L2`. The output should be one list, which is also sorted, and contains the same elements as `L1` and `L2`. For example, if `L1=[1, 3, 5, 5]` and `L2=[2, 4, 5]`, then the output should be the list\n",
    "`[1, 2, 3, 4, 5, 5, 5]`. The running time of your function should be $O(n)$, where $n=\\mathrm{len}(L_1)+\\mathrm{len}(L_2)$."
   ]
  },
  {
   "cell_type": "code",
   "execution_count": null,
   "id": "960ba809-6bfe-4cc5-a7c2-a3e90798ce87",
   "metadata": {},
   "outputs": [],
   "source": [
    "def merge_lists(L1, L2):\n",
    "    n1 = len(L1)\n",
    "    n2 = len(L2)\n",
    "    res = []\n",
    "    i1 = 0     # Current index in L1\n",
    "    i2 = 0     # Current index in L2\n",
    "    while i1 < n1 and i2 < n2:   # While both L1 and L2 are nonempty\n",
    "        if L1[i1] < L2[i2]:\n",
    "            res.append(L1[i1])\n",
    "            i1 += 1\n",
    "        else:\n",
    "            res.append(L2[i2])\n",
    "            i2 += 1\n",
    "#    if i1 < n1:            The if is not necessary as if i1 == n1, then [i1:] is an empty slice.\n",
    "    res += L1[i1:]  # Append the rest of L1, if any\n",
    "#    if i2 < n2:\n",
    "    res += L2[i2:]  # Same for L2.\n",
    "    return res"
   ]
  },
  {
   "cell_type": "code",
   "execution_count": null,
   "id": "d2f478c5-eb49-40c0-b158-b334beaca411",
   "metadata": {},
   "outputs": [],
   "source": [
    "merge_lists([1, 1, 3, 6, 6], [2, 4, 5])"
   ]
  },
  {
   "cell_type": "markdown",
   "id": "db9eeee5-ca8b-4b1f-b257-0611b8124fe2",
   "metadata": {},
   "source": [
    "Merging is the main part of the famous merge sort procedure:"
   ]
  },
  {
   "cell_type": "code",
   "execution_count": null,
   "id": "f674b5c7-ce38-46cc-8b89-857c582c6670",
   "metadata": {},
   "outputs": [],
   "source": [
    "def merge_sort(L):\n",
    "    print('merge_sort begin', L)\n",
    "    n = len(L)\n",
    "    if n <= 1:\n",
    "        return\n",
    "\n",
    "    mid = n // 2\n",
    "    left_list = L[0:mid]\n",
    "    right_list = L[mid:]\n",
    "\n",
    "    merge_sort(left_list)\n",
    "    merge_sort(right_list)\n",
    "\n",
    "    res = merge_lists(left_list, right_list)\n",
    "    for i in range(n):\n",
    "        L[i] = res[i]\n",
    "    print('merge_sort end', L)"
   ]
  },
  {
   "cell_type": "code",
   "execution_count": null,
   "id": "0d64e1cd-fc6b-492d-893c-dc27d233a588",
   "metadata": {},
   "outputs": [],
   "source": [
    "L = [3, 1, -5, 2, 6, 9, 0]\n",
    "merge_sort(L)\n",
    "print(L)"
   ]
  },
  {
   "cell_type": "markdown",
   "id": "e953beac-2682-44d5-88a8-dd16ee8eb368",
   "metadata": {},
   "source": [
    "It is instructive to follow the recursion of the merge sort on a small example. A time analysis of the recursion gives the time complexity $O(n \\log n)$. As $\\log_2 10^9\\approx 30$ (using the approximation $2^{10}\\approx 10^3$), this is almost linear time on data of practical size.\n",
    "\n",
    "$O(n\\log n)$ is much faster than naive sorting methods (e.g., selection sort, insertion sort), which run in time $O(n^2)$."
   ]
  },
  {
   "cell_type": "code",
   "execution_count": null,
   "id": "79716185-5373-4e3f-8877-28afc33e20d0",
   "metadata": {},
   "outputs": [],
   "source": []
  }
 ],
 "metadata": {
  "kernelspec": {
   "display_name": "Python 3 (ipykernel)",
   "language": "python",
   "name": "python3"
  },
  "language_info": {
   "codemirror_mode": {
    "name": "ipython",
    "version": 3
   },
   "file_extension": ".py",
   "mimetype": "text/x-python",
   "name": "python",
   "nbconvert_exporter": "python",
   "pygments_lexer": "ipython3",
   "version": "3.12.7"
  }
 },
 "nbformat": 4,
 "nbformat_minor": 5
}
